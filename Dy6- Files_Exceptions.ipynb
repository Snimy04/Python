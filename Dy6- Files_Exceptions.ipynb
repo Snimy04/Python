{
 "cells": [
  {
   "cell_type": "code",
   "execution_count": 12,
   "id": "42159bd2",
   "metadata": {},
   "outputs": [
    {
     "data": {
      "text/plain": [
       "<_io.TextIOWrapper name='dog_breeds.txt' mode='r' encoding='cp1252'>"
      ]
     },
     "execution_count": 12,
     "metadata": {},
     "output_type": "execute_result"
    }
   ],
   "source": [
    "##reading data without pandas library \n",
    "reader=open('dog_breeds.txt','r')\n",
    "reader"
   ]
  },
  {
   "cell_type": "code",
   "execution_count": 13,
   "id": "9c5862f4",
   "metadata": {},
   "outputs": [
    {
     "data": {
      "text/plain": [
       "'dog_breeds.txt'"
      ]
     },
     "execution_count": 13,
     "metadata": {},
     "output_type": "execute_result"
    }
   ],
   "source": [
    "reader.name"
   ]
  },
  {
   "cell_type": "code",
   "execution_count": 4,
   "id": "8fa04259",
   "metadata": {},
   "outputs": [
    {
     "data": {
      "text/plain": [
       "'r'"
      ]
     },
     "execution_count": 4,
     "metadata": {},
     "output_type": "execute_result"
    }
   ],
   "source": [
    "reader.mode"
   ]
  },
  {
   "cell_type": "code",
   "execution_count": 14,
   "id": "f2898678",
   "metadata": {},
   "outputs": [
    {
     "name": "stdout",
     "output_type": "stream",
     "text": [
      "Pug\n",
      "Jack Russell Terrier\n",
      "English Springer Spaniel\n",
      "German Shepherd\n",
      "Staffordshire Bull Terrier\n",
      "Cavalier King Charles Spaniel\n",
      "Golden Retriever\n",
      "West Highland White Terrier\n",
      "Boxer\n",
      "Border Terrier\n",
      "\n"
     ]
    }
   ],
   "source": [
    "print(reader.read())"
   ]
  },
  {
   "cell_type": "code",
   "execution_count": 15,
   "id": "72717871",
   "metadata": {},
   "outputs": [
    {
     "data": {
      "text/plain": [
       "False"
      ]
     },
     "execution_count": 15,
     "metadata": {},
     "output_type": "execute_result"
    }
   ],
   "source": [
    "reader.closed"
   ]
  },
  {
   "cell_type": "code",
   "execution_count": 16,
   "id": "7fb064d3",
   "metadata": {},
   "outputs": [],
   "source": [
    "reader.close()"
   ]
  },
  {
   "cell_type": "code",
   "execution_count": 17,
   "id": "e0232e5a",
   "metadata": {},
   "outputs": [
    {
     "data": {
      "text/plain": [
       "True"
      ]
     },
     "execution_count": 17,
     "metadata": {},
     "output_type": "execute_result"
    }
   ],
   "source": [
    "reader.closed"
   ]
  },
  {
   "cell_type": "code",
   "execution_count": null,
   "id": "8efaea7b",
   "metadata": {},
   "outputs": [],
   "source": [
    "## with open(automatically closes a file once the contents are read)"
   ]
  },
  {
   "cell_type": "code",
   "execution_count": 18,
   "id": "e6eea22a",
   "metadata": {},
   "outputs": [
    {
     "name": "stdout",
     "output_type": "stream",
     "text": [
      "Pug\n",
      "Jack Russell Terrier\n",
      "English Springer Spaniel\n",
      "German Shepherd\n",
      "Staffordshire Bull Terrier\n",
      "Cavalier King Charles Spaniel\n",
      "Golden Retriever\n",
      "West Highland White Terrier\n",
      "Boxer\n",
      "Border Terrier\n",
      "\n"
     ]
    }
   ],
   "source": [
    "with open('dog_breeds.txt','r')  as reader:\n",
    "    print(reader.read())"
   ]
  },
  {
   "cell_type": "code",
   "execution_count": 19,
   "id": "9456818e",
   "metadata": {},
   "outputs": [
    {
     "data": {
      "text/plain": [
       "True"
      ]
     },
     "execution_count": 19,
     "metadata": {},
     "output_type": "execute_result"
    }
   ],
   "source": [
    "reader.closed"
   ]
  },
  {
   "cell_type": "code",
   "execution_count": 20,
   "id": "369eaba7",
   "metadata": {},
   "outputs": [
    {
     "name": "stdout",
     "output_type": "stream",
     "text": [
      "Pug\n",
      "Jack Russell Ter\n"
     ]
    }
   ],
   "source": [
    "with open('dog_breeds.txt','r')  as reader:\n",
    "    print(reader.read(20))#reads first 20 bytes"
   ]
  },
  {
   "cell_type": "code",
   "execution_count": 21,
   "id": "7bf9229d",
   "metadata": {},
   "outputs": [
    {
     "name": "stdout",
     "output_type": "stream",
     "text": [
      "Pug\n",
      "\n",
      "Jack Russell Terrier\n",
      "\n",
      "English Springer Spaniel\n",
      "\n",
      "German Shepherd\n",
      "\n",
      "Staffordshire Bull Terrier\n",
      "\n",
      "Cavalier King Charles Spaniel\n",
      "\n",
      "Golden Retriever\n",
      "\n",
      "West Highland White Terrier\n",
      "\n",
      "Boxer\n",
      "\n",
      "Border Terrier\n",
      "\n"
     ]
    }
   ],
   "source": [
    "with open('dog_breeds.txt','r')  as reader:\n",
    "    for line in reader:\n",
    "        print(line) #reads one line at a time"
   ]
  },
  {
   "cell_type": "code",
   "execution_count": 23,
   "id": "fd0c42d2",
   "metadata": {},
   "outputs": [],
   "source": [
    "with open('dog_breeds.txt','r')  as reader:\n",
    "    with open('dog_copy.txt','w')  as writer:#creates a copy of the file\n",
    "        for line in reader:\n",
    "            writer.write(line)"
   ]
  },
  {
   "cell_type": "code",
   "execution_count": 27,
   "id": "c6945e1e",
   "metadata": {},
   "outputs": [
    {
     "name": "stdout",
     "output_type": "stream",
     "text": [
      "start\n",
      "Pug\n",
      "\n",
      "Jack Russell Terrier\n",
      "\n",
      "English Springer Spaniel\n",
      "\n",
      "German Shepherd\n",
      "\n",
      "Staffordshire Bull Terrier\n",
      "\n",
      "Cavalier King Charles Spaniel\n",
      "\n",
      "Golden Retriever\n",
      "\n",
      "West Highland White Terrier\n",
      "\n",
      "Boxer\n",
      "\n",
      "Border Terrier\n",
      "\n",
      "completed\n"
     ]
    }
   ],
   "source": [
    "print('start')\n",
    "try:\n",
    "    with open('dog_breeds.txt','r')  as reader:\n",
    "        for line in reader:\n",
    "            print(line)\n",
    "except:\n",
    "    print('something wrong')\n",
    "print('completed')"
   ]
  },
  {
   "cell_type": "code",
   "execution_count": null,
   "id": "d6d51a75",
   "metadata": {},
   "outputs": [],
   "source": [
    "### handling exceptions"
   ]
  },
  {
   "cell_type": "code",
   "execution_count": 28,
   "id": "fc4cfad9",
   "metadata": {},
   "outputs": [
    {
     "name": "stdout",
     "output_type": "stream",
     "text": [
      "start\n",
      "something wrong\n",
      "completed\n"
     ]
    }
   ],
   "source": [
    "print('start')\n",
    "try:\n",
    "    with open('dog_bree.txt','r')  as reader:\n",
    "        for line in reader:\n",
    "            print(line)\n",
    "except:\n",
    "    print('something wrong')\n",
    "print('completed')#when the mentioned file doesnt exist it gives the output as below"
   ]
  },
  {
   "cell_type": "code",
   "execution_count": null,
   "id": "3dd2a2ca",
   "metadata": {},
   "outputs": [],
   "source": [
    "### handling specific exceptions"
   ]
  },
  {
   "cell_type": "code",
   "execution_count": 29,
   "id": "9202cb9d",
   "metadata": {},
   "outputs": [
    {
     "name": "stdout",
     "output_type": "stream",
     "text": [
      "start\n",
      "[Errno 2] No such file or directory: 'dog_bree.txt'\n",
      "completed\n"
     ]
    }
   ],
   "source": [
    "print('start')\n",
    "try:\n",
    "    with open('dog_bree.txt','r')  as reader:\n",
    "        for line in reader:\n",
    "            print(line)\n",
    "except FileNotFoundError as fnferror:\n",
    "    print(fnferror)\n",
    "print('completed')"
   ]
  },
  {
   "cell_type": "code",
   "execution_count": 31,
   "id": "3008f080",
   "metadata": {},
   "outputs": [],
   "source": [
    "#assert: same as check constraint in sql"
   ]
  },
  {
   "cell_type": "code",
   "execution_count": 32,
   "id": "81e011a9",
   "metadata": {},
   "outputs": [],
   "source": [
    "price=10"
   ]
  },
  {
   "cell_type": "code",
   "execution_count": 33,
   "id": "6fe9c6fd",
   "metadata": {},
   "outputs": [
    {
     "name": "stdout",
     "output_type": "stream",
     "text": [
      "after assert()\n",
      "price is 10\n"
     ]
    }
   ],
   "source": [
    "try:\n",
    "    assert(price>0),\"price cannot be zero\"\n",
    "    print('after assert()')\n",
    "    print('price is',price)\n",
    "except AssertionError as asrterror:\n",
    "    print('assertion failed,',asrterror)\n",
    "    \n",
    "    "
   ]
  },
  {
   "cell_type": "code",
   "execution_count": 42,
   "id": "f166f033",
   "metadata": {},
   "outputs": [
    {
     "name": "stdout",
     "output_type": "stream",
     "text": [
      "assertion failed, price cannot be zero\n",
      "done!!\n"
     ]
    }
   ],
   "source": [
    "try:\n",
    "    assert(price>0),\"price cannot be zero\"\n",
    "    print('after assert()')\n",
    "except AssertionError as asrterror:\n",
    "    print('assertion failed,',asrterror)\n",
    "else:\n",
    "    print('assert succeeded')\n",
    "    print('price is',price)\n",
    "\n",
    "print('done!!')"
   ]
  },
  {
   "cell_type": "code",
   "execution_count": 38,
   "id": "67e2aaa9",
   "metadata": {},
   "outputs": [],
   "source": [
    "price=0"
   ]
  },
  {
   "cell_type": "code",
   "execution_count": 41,
   "id": "248881f7",
   "metadata": {},
   "outputs": [
    {
     "name": "stdout",
     "output_type": "stream",
     "text": [
      "assertion failed, price cannot be zero\n",
      "done!!\n"
     ]
    }
   ],
   "source": [
    "try:\n",
    "    assert(price>0),\"price cannot be zero\"\n",
    "    print('after assert()')\n",
    "except AssertionError as asrterror:\n",
    "    print('assertion failed,',asrterror)\n",
    "else:\n",
    "    print('assert succeeded')\n",
    "    print('price is',price)\n",
    "\n",
    "print('done!!')"
   ]
  },
  {
   "cell_type": "code",
   "execution_count": 46,
   "id": "06d3f5b3",
   "metadata": {},
   "outputs": [
    {
     "name": "stdout",
     "output_type": "stream",
     "text": [
      "assertion failed: price cannot be zero\n",
      "this always executes \n",
      "done!!\n"
     ]
    }
   ],
   "source": [
    "try:\n",
    "    assert(price>0),\"price cannot be zero\"\n",
    "    print('after assert()')\n",
    "except AssertionError as asrterror:\n",
    "    print('assertion failed:',asrterror)\n",
    "else:\n",
    "    print('assert succeeded')\n",
    "    print('price is',price)\n",
    "finally:\n",
    "    print('this always executes ')\n",
    "\n",
    "print('done!!')"
   ]
  },
  {
   "cell_type": "code",
   "execution_count": 48,
   "id": "d43340df",
   "metadata": {},
   "outputs": [],
   "source": [
    "price=3"
   ]
  },
  {
   "cell_type": "code",
   "execution_count": 49,
   "id": "150dca14",
   "metadata": {},
   "outputs": [
    {
     "name": "stdout",
     "output_type": "stream",
     "text": [
      "after assert()\n",
      "assert succeeded\n",
      "price is 3\n",
      "this always executes \n",
      "done!!\n"
     ]
    }
   ],
   "source": [
    "try:\n",
    "    assert(price>0),\"price cannot be zero\"\n",
    "    print('after assert()')\n",
    "except AssertionError as asrterror:\n",
    "    print('assertion failed:',asrterror)\n",
    "else:\n",
    "    print('assert succeeded')\n",
    "    print('price is',price)\n",
    "finally:\n",
    "    print('this always executes ')\n",
    "\n",
    "print('done!!')"
   ]
  },
  {
   "cell_type": "code",
   "execution_count": null,
   "id": "30525813",
   "metadata": {},
   "outputs": [],
   "source": []
  },
  {
   "cell_type": "code",
   "execution_count": null,
   "id": "3284eebd",
   "metadata": {},
   "outputs": [],
   "source": []
  },
  {
   "cell_type": "code",
   "execution_count": null,
   "id": "948c0d01",
   "metadata": {},
   "outputs": [],
   "source": []
  },
  {
   "cell_type": "code",
   "execution_count": null,
   "id": "c7dc4518",
   "metadata": {},
   "outputs": [],
   "source": []
  },
  {
   "cell_type": "code",
   "execution_count": null,
   "id": "91d3110e",
   "metadata": {},
   "outputs": [],
   "source": []
  },
  {
   "cell_type": "code",
   "execution_count": null,
   "id": "837cc68c",
   "metadata": {},
   "outputs": [],
   "source": []
  },
  {
   "cell_type": "code",
   "execution_count": null,
   "id": "c5b84ee3",
   "metadata": {},
   "outputs": [],
   "source": []
  },
  {
   "cell_type": "code",
   "execution_count": null,
   "id": "fd27f540",
   "metadata": {},
   "outputs": [],
   "source": []
  },
  {
   "cell_type": "code",
   "execution_count": null,
   "id": "a09e12f7",
   "metadata": {},
   "outputs": [],
   "source": []
  },
  {
   "cell_type": "code",
   "execution_count": null,
   "id": "dca1881e",
   "metadata": {},
   "outputs": [],
   "source": []
  },
  {
   "cell_type": "code",
   "execution_count": null,
   "id": "b9879e7b",
   "metadata": {},
   "outputs": [],
   "source": []
  },
  {
   "cell_type": "code",
   "execution_count": null,
   "id": "cacfd7f4",
   "metadata": {},
   "outputs": [],
   "source": []
  }
 ],
 "metadata": {
  "kernelspec": {
   "display_name": "Python 3 (ipykernel)",
   "language": "python",
   "name": "python3"
  },
  "language_info": {
   "codemirror_mode": {
    "name": "ipython",
    "version": 3
   },
   "file_extension": ".py",
   "mimetype": "text/x-python",
   "name": "python",
   "nbconvert_exporter": "python",
   "pygments_lexer": "ipython3",
   "version": "3.9.13"
  }
 },
 "nbformat": 4,
 "nbformat_minor": 5
}
