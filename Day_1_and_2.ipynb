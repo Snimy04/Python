{
 "cells": [
  {
   "cell_type": "code",
   "execution_count": 1,
   "id": "c729c79d",
   "metadata": {},
   "outputs": [
    {
     "name": "stdout",
     "output_type": "stream",
     "text": [
      "Hello World!\n"
     ]
    }
   ],
   "source": [
    "#python is case sensitive\n",
    "print('Hello World!')"
   ]
  },
  {
   "cell_type": "markdown",
   "id": "4d4b79fe",
   "metadata": {},
   "source": [
    "## Jupyter Shortcuts\n",
    "esc+a -- adds a cell above the current cell\n",
    "esc+b -- adds a cell belove the current cell\n",
    "esc+m -- convert the current cell to markdown\n",
    "esc+y -- convert the current cell to code\n",
    "esc+x -- deletes the current cell \n",
    "shift+ener -- executes a cell \n",
    "\n"
   ]
  },
  {
   "cell_type": "code",
   "execution_count": 2,
   "id": "1d9e5644",
   "metadata": {},
   "outputs": [],
   "source": [
    "#a variable need not be declared in python ....It interprets dataype based on the value(s) assigned \n",
    "#this means python varibales follow dynamic typing format "
   ]
  },
  {
   "cell_type": "code",
   "execution_count": 3,
   "id": "87191f90",
   "metadata": {},
   "outputs": [
    {
     "name": "stdout",
     "output_type": "stream",
     "text": [
      "10\n"
     ]
    }
   ],
   "source": [
    "#integer type\n",
    "x= 10\n",
    "\n",
    "print(x)"
   ]
  },
  {
   "cell_type": "code",
   "execution_count": 4,
   "id": "2b5bb4a3",
   "metadata": {},
   "outputs": [
    {
     "data": {
      "text/plain": [
       "int"
      ]
     },
     "execution_count": 4,
     "metadata": {},
     "output_type": "execute_result"
    }
   ],
   "source": [
    "type(x)#returns the datatype of x"
   ]
  },
  {
   "cell_type": "code",
   "execution_count": 5,
   "id": "91bb35fe",
   "metadata": {},
   "outputs": [
    {
     "name": "stdout",
     "output_type": "stream",
     "text": [
      "True\n"
     ]
    }
   ],
   "source": [
    "x=True\n",
    "print(x)"
   ]
  },
  {
   "cell_type": "code",
   "execution_count": 6,
   "id": "1a5facee",
   "metadata": {},
   "outputs": [
    {
     "data": {
      "text/plain": [
       "bool"
      ]
     },
     "execution_count": 6,
     "metadata": {},
     "output_type": "execute_result"
    }
   ],
   "source": [
    "type(x)\n"
   ]
  },
  {
   "cell_type": "code",
   "execution_count": 7,
   "id": "a91f6ac5",
   "metadata": {},
   "outputs": [
    {
     "name": "stdout",
     "output_type": "stream",
     "text": [
      "3.45\n"
     ]
    }
   ],
   "source": [
    "#float type\n",
    "x=3.45\n",
    "print(x)\n"
   ]
  },
  {
   "cell_type": "code",
   "execution_count": 8,
   "id": "0446c59b",
   "metadata": {},
   "outputs": [
    {
     "data": {
      "text/plain": [
       "float"
      ]
     },
     "execution_count": 8,
     "metadata": {},
     "output_type": "execute_result"
    }
   ],
   "source": [
    "type(x)"
   ]
  },
  {
   "cell_type": "markdown",
   "id": "03c4e88c",
   "metadata": {},
   "source": [
    "'''Rules for naming Python variables:\n",
    "A variable name must start with a letter or the underscore character(but avoid using underscore in the beggining of a variable name).\n",
    "A variable name cannot start with a number.\n",
    "A variable name can only contain alpha-numeric characters and underscores (A-z, 0-9, and _ )\n",
    "Variable names are case-sensitive (age, Age and AGE are three different variables)\n",
    "reserved names/varibales  cannot be used '''"
   ]
  },
  {
   "cell_type": "markdown",
   "id": "28e1f53e",
   "metadata": {},
   "source": [
    "### Arithmetic Operations\n",
    "\n"
   ]
  },
  {
   "cell_type": "code",
   "execution_count": 9,
   "id": "21026585",
   "metadata": {},
   "outputs": [],
   "source": [
    "x = 5\n",
    "y = 3"
   ]
  },
  {
   "cell_type": "code",
   "execution_count": 10,
   "id": "df1415a6",
   "metadata": {},
   "outputs": [
    {
     "data": {
      "text/plain": [
       "8"
      ]
     },
     "execution_count": 10,
     "metadata": {},
     "output_type": "execute_result"
    }
   ],
   "source": [
    "# Addition\n",
    "x + y"
   ]
  },
  {
   "cell_type": "code",
   "execution_count": 11,
   "id": "42c4dffb",
   "metadata": {},
   "outputs": [
    {
     "data": {
      "text/plain": [
       "2"
      ]
     },
     "execution_count": 11,
     "metadata": {},
     "output_type": "execute_result"
    }
   ],
   "source": [
    "# Subtraction\n",
    "x - y"
   ]
  },
  {
   "cell_type": "code",
   "execution_count": 12,
   "id": "6f55f1c3",
   "metadata": {},
   "outputs": [
    {
     "data": {
      "text/plain": [
       "15"
      ]
     },
     "execution_count": 12,
     "metadata": {},
     "output_type": "execute_result"
    }
   ],
   "source": [
    "# Multiplication\n",
    "x * y"
   ]
  },
  {
   "cell_type": "code",
   "execution_count": 13,
   "id": "501e65a4",
   "metadata": {},
   "outputs": [
    {
     "data": {
      "text/plain": [
       "125"
      ]
     },
     "execution_count": 13,
     "metadata": {},
     "output_type": "execute_result"
    }
   ],
   "source": [
    "# Power \n",
    "x ** y"
   ]
  },
  {
   "cell_type": "code",
   "execution_count": 14,
   "id": "d756f911",
   "metadata": {},
   "outputs": [
    {
     "data": {
      "text/plain": [
       "1.6666666666666667"
      ]
     },
     "execution_count": 14,
     "metadata": {},
     "output_type": "execute_result"
    }
   ],
   "source": [
    "# Division\n",
    "x / y"
   ]
  },
  {
   "cell_type": "code",
   "execution_count": 15,
   "id": "70f53849",
   "metadata": {},
   "outputs": [
    {
     "data": {
      "text/plain": [
       "2"
      ]
     },
     "execution_count": 15,
     "metadata": {},
     "output_type": "execute_result"
    }
   ],
   "source": [
    "# Modulo Division\n",
    "x % y"
   ]
  },
  {
   "cell_type": "code",
   "execution_count": 16,
   "id": "5132f2d6",
   "metadata": {},
   "outputs": [
    {
     "data": {
      "text/plain": [
       "1"
      ]
     },
     "execution_count": 16,
     "metadata": {},
     "output_type": "execute_result"
    }
   ],
   "source": [
    "# Floor Division\n",
    "x // y"
   ]
  },
  {
   "cell_type": "code",
   "execution_count": 17,
   "id": "97883b24",
   "metadata": {},
   "outputs": [
    {
     "data": {
      "text/plain": [
       "-2"
      ]
     },
     "execution_count": 17,
     "metadata": {},
     "output_type": "execute_result"
    }
   ],
   "source": [
    "-x // y"
   ]
  },
  {
   "cell_type": "markdown",
   "id": "05f9ef8a",
   "metadata": {},
   "source": [
    "### Boolean Operations"
   ]
  },
  {
   "cell_type": "code",
   "execution_count": 18,
   "id": "feb2cb2b",
   "metadata": {},
   "outputs": [],
   "source": [
    "x = True\n",
    "y = False"
   ]
  },
  {
   "cell_type": "code",
   "execution_count": 19,
   "id": "b059bd70",
   "metadata": {},
   "outputs": [
    {
     "data": {
      "text/plain": [
       "True"
      ]
     },
     "execution_count": 19,
     "metadata": {},
     "output_type": "execute_result"
    }
   ],
   "source": [
    "x or y\n"
   ]
  },
  {
   "cell_type": "code",
   "execution_count": 20,
   "id": "ce7e1d51",
   "metadata": {},
   "outputs": [
    {
     "data": {
      "text/plain": [
       "False"
      ]
     },
     "execution_count": 20,
     "metadata": {},
     "output_type": "execute_result"
    }
   ],
   "source": [
    "x and y\n"
   ]
  },
  {
   "cell_type": "code",
   "execution_count": 21,
   "id": "a67e41d3",
   "metadata": {},
   "outputs": [
    {
     "data": {
      "text/plain": [
       "False"
      ]
     },
     "execution_count": 21,
     "metadata": {},
     "output_type": "execute_result"
    }
   ],
   "source": [
    "not x"
   ]
  },
  {
   "cell_type": "code",
   "execution_count": 22,
   "id": "35cf92c8",
   "metadata": {},
   "outputs": [
    {
     "data": {
      "text/plain": [
       "True"
      ]
     },
     "execution_count": 22,
     "metadata": {},
     "output_type": "execute_result"
    }
   ],
   "source": [
    "not y"
   ]
  },
  {
   "cell_type": "code",
   "execution_count": 23,
   "id": "17462ddf",
   "metadata": {},
   "outputs": [],
   "source": [
    "# Assignment operation\n",
    "x = 10"
   ]
  },
  {
   "cell_type": "code",
   "execution_count": 24,
   "id": "7ecaf0c9",
   "metadata": {},
   "outputs": [
    {
     "data": {
      "text/plain": [
       "True"
      ]
     },
     "execution_count": 24,
     "metadata": {},
     "output_type": "execute_result"
    }
   ],
   "source": [
    "# Comparision Operation\n",
    "x == 10"
   ]
  },
  {
   "cell_type": "markdown",
   "id": "3a6518ae",
   "metadata": {},
   "source": [
    "# Collection Types"
   ]
  },
  {
   "cell_type": "markdown",
   "id": "3cfa1c32",
   "metadata": {},
   "source": [
    "The collection Module in Python provides different types of containers. A Container is an object that is used to store different objects "
   ]
  },
  {
   "cell_type": "code",
   "execution_count": 25,
   "id": "2494d8bf",
   "metadata": {},
   "outputs": [
    {
     "name": "stdout",
     "output_type": "stream",
     "text": [
      "[23, 47, 87, 65, 44]\n"
     ]
    }
   ],
   "source": [
    "# List : List items are ordered, changeable, and allow duplicate values.\n",
    "lst = [23,47,87,65,44]\n",
    "print(lst)"
   ]
  },
  {
   "cell_type": "code",
   "execution_count": 26,
   "id": "d17e38a4",
   "metadata": {},
   "outputs": [
    {
     "data": {
      "text/plain": [
       "list"
      ]
     },
     "execution_count": 26,
     "metadata": {},
     "output_type": "execute_result"
    }
   ],
   "source": [
    "type(lst)"
   ]
  },
  {
   "cell_type": "code",
   "execution_count": 27,
   "id": "096c78d1",
   "metadata": {},
   "outputs": [
    {
     "data": {
      "text/plain": [
       "[23, 47, 87, 65, 44]"
      ]
     },
     "execution_count": 27,
     "metadata": {},
     "output_type": "execute_result"
    }
   ],
   "source": [
    "lst"
   ]
  },
  {
   "cell_type": "code",
   "execution_count": 28,
   "id": "1986a7ab",
   "metadata": {},
   "outputs": [],
   "source": [
    "# Tuple\n",
    "x = (11,22,33,44,55)"
   ]
  },
  {
   "cell_type": "code",
   "execution_count": 29,
   "id": "492c738e",
   "metadata": {},
   "outputs": [
    {
     "name": "stdout",
     "output_type": "stream",
     "text": [
      "(11, 22, 33, 44, 55)\n"
     ]
    }
   ],
   "source": [
    "print(x)\n"
   ]
  },
  {
   "cell_type": "code",
   "execution_count": 30,
   "id": "b01d9f8f",
   "metadata": {},
   "outputs": [
    {
     "data": {
      "text/plain": [
       "tuple"
      ]
     },
     "execution_count": 30,
     "metadata": {},
     "output_type": "execute_result"
    }
   ],
   "source": [
    "type(x)"
   ]
  },
  {
   "cell_type": "code",
   "execution_count": 31,
   "id": "c1cd4caf",
   "metadata": {},
   "outputs": [
    {
     "name": "stdout",
     "output_type": "stream",
     "text": [
      "Hello\n"
     ]
    }
   ],
   "source": [
    "# String\n",
    "s1 = \"\"\"Hello\"\"\"\n",
    "print(s1)"
   ]
  },
  {
   "cell_type": "code",
   "execution_count": 32,
   "id": "0347d36a",
   "metadata": {},
   "outputs": [
    {
     "data": {
      "text/plain": [
       "str"
      ]
     },
     "execution_count": 32,
     "metadata": {},
     "output_type": "execute_result"
    }
   ],
   "source": [
    "type(s1)\n"
   ]
  },
  {
   "cell_type": "code",
   "execution_count": 33,
   "id": "7634e419",
   "metadata": {},
   "outputs": [
    {
     "data": {
      "text/plain": [
       "[10, 11.23, True, [2, 3, 4], (11, 22, 33), 'Hello']"
      ]
     },
     "execution_count": 33,
     "metadata": {},
     "output_type": "execute_result"
    }
   ],
   "source": [
    "#list and tuple can hold multiple datatypes\n",
    "#which ,means list and tuples are heterogenous sequences\n",
    "#but string can only holls string datatype . Therefore its a homogenous sequence \n",
    "lst = [10,11.23,True,[2,3,4],(11,22,33),'Hello']\n",
    "lst"
   ]
  },
  {
   "cell_type": "code",
   "execution_count": 34,
   "id": "f7ce328f",
   "metadata": {},
   "outputs": [
    {
     "data": {
      "text/plain": [
       "(10, 11.23, True, [2, 3, 4], (11, 22, 33), 'Hello')"
      ]
     },
     "execution_count": 34,
     "metadata": {},
     "output_type": "execute_result"
    }
   ],
   "source": [
    "tup = (10,11.23,True,[2,3,4],(11,22,33),'Hello')\n",
    "tup"
   ]
  },
  {
   "cell_type": "code",
   "execution_count": 35,
   "id": "65c9ae26",
   "metadata": {},
   "outputs": [],
   "source": [
    "mystr = 'Python3.0'"
   ]
  },
  {
   "cell_type": "markdown",
   "id": "f6bf73bb",
   "metadata": {},
   "source": [
    "### Accessing Elements from a sequence(Indexing)"
   ]
  },
  {
   "cell_type": "code",
   "execution_count": 36,
   "id": "b7ccd174",
   "metadata": {},
   "outputs": [],
   "source": [
    "lst = [23, 47, 87, 65, 44,81,28,77,95,70,11,34]"
   ]
  },
  {
   "cell_type": "code",
   "execution_count": 37,
   "id": "648fb399",
   "metadata": {},
   "outputs": [
    {
     "data": {
      "text/plain": [
       "65"
      ]
     },
     "execution_count": 37,
     "metadata": {},
     "output_type": "execute_result"
    }
   ],
   "source": [
    "lst[3]"
   ]
  },
  {
   "cell_type": "code",
   "execution_count": 38,
   "id": "fafb59fe",
   "metadata": {},
   "outputs": [
    {
     "data": {
      "text/plain": [
       "33"
      ]
     },
     "execution_count": 38,
     "metadata": {},
     "output_type": "execute_result"
    }
   ],
   "source": [
    "x = (11,22,33,44,55)\n",
    "x[2]"
   ]
  },
  {
   "cell_type": "code",
   "execution_count": 39,
   "id": "fad769db",
   "metadata": {},
   "outputs": [
    {
     "data": {
      "text/plain": [
       "'e'"
      ]
     },
     "execution_count": 39,
     "metadata": {},
     "output_type": "execute_result"
    }
   ],
   "source": [
    "s1 = \"\"\"Hello\"\"\"\n",
    "s1[1]"
   ]
  },
  {
   "cell_type": "code",
   "execution_count": 40,
   "id": "aa2448af",
   "metadata": {},
   "outputs": [
    {
     "data": {
      "text/plain": [
       "True"
      ]
     },
     "execution_count": 40,
     "metadata": {},
     "output_type": "execute_result"
    }
   ],
   "source": [
    "lst = [10,11.23,True,[2,3,4],(11,22,33),'Hello']\n",
    "lst[2]"
   ]
  },
  {
   "cell_type": "code",
   "execution_count": 41,
   "id": "87a1afdc",
   "metadata": {},
   "outputs": [
    {
     "data": {
      "text/plain": [
       "22"
      ]
     },
     "execution_count": 41,
     "metadata": {},
     "output_type": "execute_result"
    }
   ],
   "source": [
    "lst[4][1]"
   ]
  },
  {
   "cell_type": "code",
   "execution_count": 42,
   "id": "dfe28c8a",
   "metadata": {},
   "outputs": [
    {
     "data": {
      "text/plain": [
       "'o'"
      ]
     },
     "execution_count": 42,
     "metadata": {},
     "output_type": "execute_result"
    }
   ],
   "source": [
    "lst[-1][-1]"
   ]
  },
  {
   "cell_type": "markdown",
   "id": "63bb519c",
   "metadata": {},
   "source": [
    "#### Slicing"
   ]
  },
  {
   "cell_type": "code",
   "execution_count": 43,
   "id": "360d41ca",
   "metadata": {},
   "outputs": [
    {
     "data": {
      "text/plain": [
       "[10, 11.23, True, [2, 3, 4], (11, 22, 33), 'Hello']"
      ]
     },
     "execution_count": 43,
     "metadata": {},
     "output_type": "execute_result"
    }
   ],
   "source": [
    "lst[:7]"
   ]
  },
  {
   "cell_type": "code",
   "execution_count": 44,
   "id": "bfcf4af7",
   "metadata": {},
   "outputs": [
    {
     "data": {
      "text/plain": [
       "[]"
      ]
     },
     "execution_count": 44,
     "metadata": {},
     "output_type": "execute_result"
    }
   ],
   "source": [
    "lst[7:]"
   ]
  },
  {
   "cell_type": "code",
   "execution_count": 45,
   "id": "32b3f636",
   "metadata": {},
   "outputs": [
    {
     "data": {
      "text/plain": [
       "[10, 11.23, True, [2, 3, 4], (11, 22, 33), 'Hello']"
      ]
     },
     "execution_count": 45,
     "metadata": {},
     "output_type": "execute_result"
    }
   ],
   "source": [
    "lst[:]"
   ]
  },
  {
   "cell_type": "markdown",
   "id": "e1d1aef4",
   "metadata": {},
   "source": [
    "#### Reverse Indexing"
   ]
  },
  {
   "cell_type": "code",
   "execution_count": 46,
   "id": "b04e0705",
   "metadata": {},
   "outputs": [
    {
     "data": {
      "text/plain": [
       "'Hello'"
      ]
     },
     "execution_count": 46,
     "metadata": {},
     "output_type": "execute_result"
    }
   ],
   "source": [
    "lst[-1]"
   ]
  },
  {
   "cell_type": "code",
   "execution_count": 47,
   "id": "f8a79bda",
   "metadata": {},
   "outputs": [
    {
     "data": {
      "text/plain": [
       "55"
      ]
     },
     "execution_count": 47,
     "metadata": {},
     "output_type": "execute_result"
    }
   ],
   "source": [
    "x[-1]"
   ]
  },
  {
   "cell_type": "code",
   "execution_count": 48,
   "id": "0c777adc",
   "metadata": {},
   "outputs": [
    {
     "data": {
      "text/plain": [
       "'o'"
      ]
     },
     "execution_count": 48,
     "metadata": {},
     "output_type": "execute_result"
    }
   ],
   "source": [
    "s1[-1]"
   ]
  },
  {
   "cell_type": "code",
   "execution_count": 49,
   "id": "e2552fba",
   "metadata": {},
   "outputs": [
    {
     "data": {
      "text/plain": [
       "[[2, 3, 4], (11, 22, 33)]"
      ]
     },
     "execution_count": 49,
     "metadata": {},
     "output_type": "execute_result"
    }
   ],
   "source": [
    "lst[-3:-1]"
   ]
  },
  {
   "cell_type": "markdown",
   "id": "b8ae14df",
   "metadata": {},
   "source": [
    "### accessing one element at a time from a sequence\n"
   ]
  },
  {
   "cell_type": "code",
   "execution_count": 50,
   "id": "3c0c7f36",
   "metadata": {},
   "outputs": [],
   "source": [
    "shopping_list=['apple','bread','butter','soap','jam']\n",
    " "
   ]
  },
  {
   "cell_type": "code",
   "execution_count": 51,
   "id": "ff1ef2bc",
   "metadata": {},
   "outputs": [
    {
     "name": "stdout",
     "output_type": "stream",
     "text": [
      "apple\n",
      "______\n",
      "bread\n",
      "______\n",
      "butter\n",
      "______\n",
      "soap\n",
      "______\n",
      "jam\n",
      "______\n"
     ]
    }
   ],
   "source": [
    "for x in shopping_list:\n",
    "    print(x)\n",
    "    print('______')"
   ]
  },
  {
   "cell_type": "code",
   "execution_count": 52,
   "id": "4eb9e349",
   "metadata": {},
   "outputs": [
    {
     "name": "stdout",
     "output_type": "stream",
     "text": [
      "apple\n",
      "hi\n",
      "bread\n",
      "hi\n",
      "butter\n",
      "hi\n",
      "soap\n",
      "hi\n",
      "jam\n",
      "hi\n",
      "______\n"
     ]
    }
   ],
   "source": [
    "for x in shopping_list:\n",
    "    print(x)\n",
    "    print('hi')\n",
    "print('______')"
   ]
  },
  {
   "cell_type": "code",
   "execution_count": 53,
   "id": "232ba156",
   "metadata": {},
   "outputs": [
    {
     "name": "stdout",
     "output_type": "stream",
     "text": [
      "P\n",
      "y\n",
      "t\n",
      "h\n",
      "o\n",
      "n\n",
      "3\n",
      ".\n",
      "0\n"
     ]
    }
   ],
   "source": [
    "str1='Python3.0'\n",
    "for x in str1:\n",
    "    print(x)"
   ]
  },
  {
   "cell_type": "code",
   "execution_count": 54,
   "id": "6985ff9b",
   "metadata": {},
   "outputs": [
    {
     "name": "stdout",
     "output_type": "stream",
     "text": [
      "1\n",
      "2\n",
      "3\n",
      "4\n"
     ]
    }
   ],
   "source": [
    "tup=(1,2,3,4)\n",
    "for x in tup:\n",
    "    print(x)"
   ]
  },
  {
   "cell_type": "markdown",
   "id": "7bfb0565",
   "metadata": {},
   "source": [
    "## common functions for all the sequneces"
   ]
  },
  {
   "cell_type": "markdown",
   "id": "0f32f2a5",
   "metadata": {},
   "source": [
    "### finding length of a sequence"
   ]
  },
  {
   "cell_type": "code",
   "execution_count": 55,
   "id": "0d6d6b39",
   "metadata": {},
   "outputs": [
    {
     "data": {
      "text/plain": [
       "5"
      ]
     },
     "execution_count": 55,
     "metadata": {},
     "output_type": "execute_result"
    }
   ],
   "source": [
    "len(shopping_list)\n",
    "\n"
   ]
  },
  {
   "cell_type": "code",
   "execution_count": 56,
   "id": "c6a54d95",
   "metadata": {},
   "outputs": [
    {
     "data": {
      "text/plain": [
       "9"
      ]
     },
     "execution_count": 56,
     "metadata": {},
     "output_type": "execute_result"
    }
   ],
   "source": [
    "len(str1)"
   ]
  },
  {
   "cell_type": "code",
   "execution_count": 57,
   "id": "f4295e49",
   "metadata": {},
   "outputs": [
    {
     "data": {
      "text/plain": [
       "4"
      ]
     },
     "execution_count": 57,
     "metadata": {},
     "output_type": "execute_result"
    }
   ],
   "source": [
    "len(tup)"
   ]
  },
  {
   "cell_type": "code",
   "execution_count": 58,
   "id": "a3177dd0",
   "metadata": {},
   "outputs": [
    {
     "data": {
      "text/plain": [
       "1"
      ]
     },
     "execution_count": 58,
     "metadata": {},
     "output_type": "execute_result"
    }
   ],
   "source": [
    "min(tup)"
   ]
  },
  {
   "cell_type": "code",
   "execution_count": 59,
   "id": "a8f6f176",
   "metadata": {},
   "outputs": [
    {
     "data": {
      "text/plain": [
       "'soap'"
      ]
     },
     "execution_count": 59,
     "metadata": {},
     "output_type": "execute_result"
    }
   ],
   "source": [
    "max(shopping_list)"
   ]
  },
  {
   "cell_type": "code",
   "execution_count": 60,
   "id": "b571c67d",
   "metadata": {},
   "outputs": [],
   "source": [
    "#membership operations"
   ]
  },
  {
   "cell_type": "code",
   "execution_count": 61,
   "id": "89ffcad0",
   "metadata": {},
   "outputs": [
    {
     "data": {
      "text/plain": [
       "False"
      ]
     },
     "execution_count": 61,
     "metadata": {},
     "output_type": "execute_result"
    }
   ],
   "source": [
    "20 in tup"
   ]
  },
  {
   "cell_type": "code",
   "execution_count": 62,
   "id": "47df0ab8",
   "metadata": {},
   "outputs": [
    {
     "data": {
      "text/plain": [
       "True"
      ]
     },
     "execution_count": 62,
     "metadata": {},
     "output_type": "execute_result"
    }
   ],
   "source": [
    "'y' in str1"
   ]
  },
  {
   "cell_type": "code",
   "execution_count": 1,
   "id": "ec407cc9",
   "metadata": {},
   "outputs": [
    {
     "data": {
      "text/plain": [
       "[1, 2, 3, 4, 5, 6]"
      ]
     },
     "execution_count": 1,
     "metadata": {},
     "output_type": "execute_result"
    }
   ],
   "source": [
    "## concatenation\n",
    "s1=[1,2,3]\n",
    "s2=[4,5,6]\n",
    "s1+s2"
   ]
  },
  {
   "cell_type": "code",
   "execution_count": 4,
   "id": "65cb9bff",
   "metadata": {},
   "outputs": [
    {
     "data": {
      "text/plain": [
       "'hellohellohello'"
      ]
     },
     "execution_count": 4,
     "metadata": {},
     "output_type": "execute_result"
    }
   ],
   "source": [
    "s3='hello'*3\n",
    "s3"
   ]
  },
  {
   "cell_type": "markdown",
   "id": "b35f7fee",
   "metadata": {},
   "source": [
    "##list methods"
   ]
  },
  {
   "cell_type": "code",
   "execution_count": 63,
   "id": "47c06462",
   "metadata": {},
   "outputs": [
    {
     "data": {
      "text/plain": [
       "['__add__',\n",
       " '__class__',\n",
       " '__class_getitem__',\n",
       " '__contains__',\n",
       " '__delattr__',\n",
       " '__delitem__',\n",
       " '__dir__',\n",
       " '__doc__',\n",
       " '__eq__',\n",
       " '__format__',\n",
       " '__ge__',\n",
       " '__getattribute__',\n",
       " '__getitem__',\n",
       " '__gt__',\n",
       " '__hash__',\n",
       " '__iadd__',\n",
       " '__imul__',\n",
       " '__init__',\n",
       " '__init_subclass__',\n",
       " '__iter__',\n",
       " '__le__',\n",
       " '__len__',\n",
       " '__lt__',\n",
       " '__mul__',\n",
       " '__ne__',\n",
       " '__new__',\n",
       " '__reduce__',\n",
       " '__reduce_ex__',\n",
       " '__repr__',\n",
       " '__reversed__',\n",
       " '__rmul__',\n",
       " '__setattr__',\n",
       " '__setitem__',\n",
       " '__sizeof__',\n",
       " '__str__',\n",
       " '__subclasshook__',\n",
       " 'append',\n",
       " 'clear',\n",
       " 'copy',\n",
       " 'count',\n",
       " 'extend',\n",
       " 'index',\n",
       " 'insert',\n",
       " 'pop',\n",
       " 'remove',\n",
       " 'reverse',\n",
       " 'sort']"
      ]
     },
     "execution_count": 63,
     "metadata": {},
     "output_type": "execute_result"
    }
   ],
   "source": [
    "# these methods can only be applied on lists\n",
    "dir(list)"
   ]
  },
  {
   "cell_type": "code",
   "execution_count": 64,
   "id": "43635cb4",
   "metadata": {},
   "outputs": [
    {
     "data": {
      "text/plain": [
       "['apple', 'bread', 'butter', 'soap', 'jam', 'notebook']"
      ]
     },
     "execution_count": 64,
     "metadata": {},
     "output_type": "execute_result"
    }
   ],
   "source": [
    "#append--adds at the end of the list\n",
    "#we can also appens a list within a list and also a tuple within a list\n",
    "shopping_list.append('notebook')\n",
    "shopping_list"
   ]
  },
  {
   "cell_type": "code",
   "execution_count": 1,
   "id": "e7bad352",
   "metadata": {},
   "outputs": [],
   "source": [
    "#insert-- adds data in b/w or a specified position \n",
    "#we can also insert a list within a list and also a tuple within a list"
   ]
  },
  {
   "cell_type": "code",
   "execution_count": null,
   "id": "8c260309",
   "metadata": {},
   "outputs": [],
   "source": [
    "shopping_list.insert(2,'pens')\n",
    "shopping_list"
   ]
  },
  {
   "cell_type": "code",
   "execution_count": null,
   "id": "6248bc09",
   "metadata": {},
   "outputs": [],
   "source": [
    "#extend : adds multiple elements to the end with each element being a seperate element\n",
    "shopping_list.extend([1,2,3])\n",
    "shopping_list"
   ]
  },
  {
   "cell_type": "code",
   "execution_count": null,
   "id": "1405ac17",
   "metadata": {},
   "outputs": [],
   "source": [
    "#pop -- removes element with the help of index\n"
   ]
  },
  {
   "cell_type": "code",
   "execution_count": null,
   "id": "3901c5ed",
   "metadata": {},
   "outputs": [],
   "source": [
    "#when index is not mntioned pop() by default removes last element\n",
    "shopping_list.pop()\n",
    "shopping_list"
   ]
  },
  {
   "cell_type": "code",
   "execution_count": null,
   "id": "d6bd9460",
   "metadata": {},
   "outputs": [],
   "source": [
    "shopping_list.pop(-1)\n",
    "shopping_list"
   ]
  },
  {
   "cell_type": "code",
   "execution_count": null,
   "id": "8b3346cb",
   "metadata": {},
   "outputs": [],
   "source": [
    "#remove -- \n",
    "shopping_list.remove('soap')\n",
    "shopping_list"
   ]
  },
  {
   "cell_type": "code",
   "execution_count": null,
   "id": "0b6ed8af",
   "metadata": {},
   "outputs": [],
   "source": [
    "#clear -- removes all the elements from a list\n",
    "#shopping_list.clear()\n",
    "\n"
   ]
  },
  {
   "cell_type": "code",
   "execution_count": null,
   "id": "25bb47f1",
   "metadata": {},
   "outputs": [],
   "source": [
    "#count -- retunrs the number of times the elemnt is repeated in a list \n",
    "shopping_list.count('notebook')"
   ]
  },
  {
   "cell_type": "code",
   "execution_count": null,
   "id": "3b61c18c",
   "metadata": {},
   "outputs": [],
   "source": [
    "#index -- returns the position of an element in the list\n",
    "#whenever an element is repeated the index() returns the position of first occurence of that particular element "
   ]
  },
  {
   "cell_type": "code",
   "execution_count": null,
   "id": "b2de0ebf",
   "metadata": {},
   "outputs": [],
   "source": [
    "shopping_list.index('notebook')"
   ]
  },
  {
   "cell_type": "code",
   "execution_count": null,
   "id": "51d8dc1f",
   "metadata": {},
   "outputs": [],
   "source": [
    "#sort -- arrange elemnts in ascending by default \n",
    "#sorting works only when list has elements if same datatype\n",
    "l1=[1,23,4,67,8,9,90,0]\n",
    "l1.sort()\n",
    "l1"
   ]
  },
  {
   "cell_type": "code",
   "execution_count": null,
   "id": "fccab9ec",
   "metadata": {},
   "outputs": [],
   "source": [
    "#arrange elemnts in descending \n",
    "l1.sort(reverse=True)\n",
    "l1"
   ]
  },
  {
   "cell_type": "code",
   "execution_count": null,
   "id": "3b3cf677",
   "metadata": {},
   "outputs": [],
   "source": [
    "l1.sort(reverse=True)\n",
    "l1"
   ]
  },
  {
   "cell_type": "code",
   "execution_count": null,
   "id": "c898edd8",
   "metadata": {},
   "outputs": [],
   "source": [
    "#copying a list "
   ]
  },
  {
   "cell_type": "code",
   "execution_count": 67,
   "id": "de851606",
   "metadata": {},
   "outputs": [],
   "source": [
    "lst1 = [1,2,3]"
   ]
  },
  {
   "cell_type": "code",
   "execution_count": 68,
   "id": "bfc1e91a",
   "metadata": {},
   "outputs": [],
   "source": [
    "#in this case whatever changes u make in lst 1 will be reflected in lst2 also\n",
    "lst2 = lst1"
   ]
  },
  {
   "cell_type": "code",
   "execution_count": 69,
   "id": "81e060e8",
   "metadata": {},
   "outputs": [
    {
     "data": {
      "text/plain": [
       "[1, 2, 3]"
      ]
     },
     "execution_count": 69,
     "metadata": {},
     "output_type": "execute_result"
    }
   ],
   "source": [
    "lst1"
   ]
  },
  {
   "cell_type": "code",
   "execution_count": 70,
   "id": "07c11ad5",
   "metadata": {},
   "outputs": [
    {
     "data": {
      "text/plain": [
       "[1, 2, 3]"
      ]
     },
     "execution_count": 70,
     "metadata": {},
     "output_type": "execute_result"
    }
   ],
   "source": [
    "lst2"
   ]
  },
  {
   "cell_type": "code",
   "execution_count": 71,
   "id": "ac89e660",
   "metadata": {},
   "outputs": [],
   "source": [
    "lst1[1] = 100"
   ]
  },
  {
   "cell_type": "code",
   "execution_count": 72,
   "id": "eb33abfb",
   "metadata": {},
   "outputs": [
    {
     "data": {
      "text/plain": [
       "[1, 100, 3]"
      ]
     },
     "execution_count": 72,
     "metadata": {},
     "output_type": "execute_result"
    }
   ],
   "source": [
    "lst1"
   ]
  },
  {
   "cell_type": "code",
   "execution_count": 73,
   "id": "515b11ba",
   "metadata": {},
   "outputs": [
    {
     "data": {
      "text/plain": [
       "[1, 100, 3]"
      ]
     },
     "execution_count": 73,
     "metadata": {},
     "output_type": "execute_result"
    }
   ],
   "source": [
    "lst2"
   ]
  },
  {
   "cell_type": "code",
   "execution_count": 74,
   "id": "adec1872",
   "metadata": {},
   "outputs": [],
   "source": [
    "lst1 = [1,2,3]"
   ]
  },
  {
   "cell_type": "code",
   "execution_count": 75,
   "id": "c5db895e",
   "metadata": {},
   "outputs": [],
   "source": [
    "#in this case whatever changes u make in lst 1 will not be reflected in lst2 also because u r just assigning a copy of lst1 to lst 2\n",
    "#the original lst1 will be the only list to rreflect changes since lst2 is just a copy of lst1 before making the changes \n",
    "lst2 = lst1.copy()"
   ]
  },
  {
   "cell_type": "code",
   "execution_count": 76,
   "id": "9014fc6f",
   "metadata": {},
   "outputs": [
    {
     "data": {
      "text/plain": [
       "[1, 2, 3]"
      ]
     },
     "execution_count": 76,
     "metadata": {},
     "output_type": "execute_result"
    }
   ],
   "source": [
    "lst1"
   ]
  },
  {
   "cell_type": "code",
   "execution_count": 77,
   "id": "6a2c9364",
   "metadata": {},
   "outputs": [
    {
     "data": {
      "text/plain": [
       "[1, 2, 3]"
      ]
     },
     "execution_count": 77,
     "metadata": {},
     "output_type": "execute_result"
    }
   ],
   "source": [
    "lst2"
   ]
  },
  {
   "cell_type": "code",
   "execution_count": 78,
   "id": "00fb0c66",
   "metadata": {},
   "outputs": [],
   "source": [
    "lst1[1] = 100"
   ]
  },
  {
   "cell_type": "code",
   "execution_count": 79,
   "id": "78c1056c",
   "metadata": {},
   "outputs": [
    {
     "data": {
      "text/plain": [
       "[1, 100, 3]"
      ]
     },
     "execution_count": 79,
     "metadata": {},
     "output_type": "execute_result"
    }
   ],
   "source": [
    "lst1"
   ]
  },
  {
   "cell_type": "code",
   "execution_count": 80,
   "id": "4e4cefb5",
   "metadata": {},
   "outputs": [
    {
     "data": {
      "text/plain": [
       "[1, 2, 3]"
      ]
     },
     "execution_count": 80,
     "metadata": {},
     "output_type": "execute_result"
    }
   ],
   "source": [
    "lst2"
   ]
  },
  {
   "cell_type": "code",
   "execution_count": 81,
   "id": "73140e59",
   "metadata": {},
   "outputs": [
    {
     "data": {
      "text/plain": [
       "['__add__',\n",
       " '__class__',\n",
       " '__class_getitem__',\n",
       " '__contains__',\n",
       " '__delattr__',\n",
       " '__dir__',\n",
       " '__doc__',\n",
       " '__eq__',\n",
       " '__format__',\n",
       " '__ge__',\n",
       " '__getattribute__',\n",
       " '__getitem__',\n",
       " '__getnewargs__',\n",
       " '__gt__',\n",
       " '__hash__',\n",
       " '__init__',\n",
       " '__init_subclass__',\n",
       " '__iter__',\n",
       " '__le__',\n",
       " '__len__',\n",
       " '__lt__',\n",
       " '__mul__',\n",
       " '__ne__',\n",
       " '__new__',\n",
       " '__reduce__',\n",
       " '__reduce_ex__',\n",
       " '__repr__',\n",
       " '__rmul__',\n",
       " '__setattr__',\n",
       " '__sizeof__',\n",
       " '__str__',\n",
       " '__subclasshook__',\n",
       " 'count',\n",
       " 'index']"
      ]
     },
     "execution_count": 81,
     "metadata": {},
     "output_type": "execute_result"
    }
   ],
   "source": [
    "dir(tuple)\n",
    "#since a tuple is immutable  count and index are the only functions that can be performed on the tuple\n",
    "#usually we use tuple when we dont want something to change accidentally due to some error while executing the code "
   ]
  },
  {
   "cell_type": "code",
   "execution_count": 82,
   "id": "0791e86c",
   "metadata": {},
   "outputs": [],
   "source": [
    "tup = (1,1,2,3)"
   ]
  },
  {
   "cell_type": "code",
   "execution_count": 83,
   "id": "4a5a28cc",
   "metadata": {},
   "outputs": [
    {
     "data": {
      "text/plain": [
       "2"
      ]
     },
     "execution_count": 83,
     "metadata": {},
     "output_type": "execute_result"
    }
   ],
   "source": [
    "tup.count(1)"
   ]
  },
  {
   "cell_type": "code",
   "execution_count": 84,
   "id": "8e037b8e",
   "metadata": {},
   "outputs": [
    {
     "data": {
      "text/plain": [
       "0"
      ]
     },
     "execution_count": 84,
     "metadata": {},
     "output_type": "execute_result"
    }
   ],
   "source": [
    "tup.index(1)"
   ]
  },
  {
   "cell_type": "code",
   "execution_count": 85,
   "id": "5c8716c5",
   "metadata": {},
   "outputs": [],
   "source": [
    "#if we want to change anything inside a tuple convert it into a list  make neccesssary changes then again convrt it into a tuple"
   ]
  },
  {
   "cell_type": "code",
   "execution_count": 86,
   "id": "fd1b332e",
   "metadata": {},
   "outputs": [
    {
     "data": {
      "text/plain": [
       "['__add__',\n",
       " '__class__',\n",
       " '__contains__',\n",
       " '__delattr__',\n",
       " '__dir__',\n",
       " '__doc__',\n",
       " '__eq__',\n",
       " '__format__',\n",
       " '__ge__',\n",
       " '__getattribute__',\n",
       " '__getitem__',\n",
       " '__getnewargs__',\n",
       " '__gt__',\n",
       " '__hash__',\n",
       " '__init__',\n",
       " '__init_subclass__',\n",
       " '__iter__',\n",
       " '__le__',\n",
       " '__len__',\n",
       " '__lt__',\n",
       " '__mod__',\n",
       " '__mul__',\n",
       " '__ne__',\n",
       " '__new__',\n",
       " '__reduce__',\n",
       " '__reduce_ex__',\n",
       " '__repr__',\n",
       " '__rmod__',\n",
       " '__rmul__',\n",
       " '__setattr__',\n",
       " '__sizeof__',\n",
       " '__str__',\n",
       " '__subclasshook__',\n",
       " 'capitalize',\n",
       " 'casefold',\n",
       " 'center',\n",
       " 'count',\n",
       " 'encode',\n",
       " 'endswith',\n",
       " 'expandtabs',\n",
       " 'find',\n",
       " 'format',\n",
       " 'format_map',\n",
       " 'index',\n",
       " 'isalnum',\n",
       " 'isalpha',\n",
       " 'isascii',\n",
       " 'isdecimal',\n",
       " 'isdigit',\n",
       " 'isidentifier',\n",
       " 'islower',\n",
       " 'isnumeric',\n",
       " 'isprintable',\n",
       " 'isspace',\n",
       " 'istitle',\n",
       " 'isupper',\n",
       " 'join',\n",
       " 'ljust',\n",
       " 'lower',\n",
       " 'lstrip',\n",
       " 'maketrans',\n",
       " 'partition',\n",
       " 'removeprefix',\n",
       " 'removesuffix',\n",
       " 'replace',\n",
       " 'rfind',\n",
       " 'rindex',\n",
       " 'rjust',\n",
       " 'rpartition',\n",
       " 'rsplit',\n",
       " 'rstrip',\n",
       " 'split',\n",
       " 'splitlines',\n",
       " 'startswith',\n",
       " 'strip',\n",
       " 'swapcase',\n",
       " 'title',\n",
       " 'translate',\n",
       " 'upper',\n",
       " 'zfill']"
      ]
     },
     "execution_count": 86,
     "metadata": {},
     "output_type": "execute_result"
    }
   ],
   "source": [
    "dir(str)"
   ]
  },
  {
   "cell_type": "code",
   "execution_count": 87,
   "id": "04b2c761",
   "metadata": {},
   "outputs": [],
   "source": [
    "#when we perform a function and if a output is thrown then it means its a copy and the original data is not changed\n",
    "#in case of string this is what happens\n",
    "#in case of list when you perform a function we have to call the name of the list to see the output\n",
    "#in the output the changes will be made to the original list as per the functions performed\n",
    "#but when we perform a function on string no need of calling the name of the str name to see the output\n",
    "#also the original string will remain unchanged irrespective of functions performed on the string....the same goes with tuple as well\n",
    "#because both tuple and string are immutable.unchangeable once created but a list is mutable/changeable\n",
    "#compare the differences when you perform methods on string/tuple and lists\n",
    "\n"
   ]
  },
  {
   "cell_type": "code",
   "execution_count": 2,
   "id": "47e403c4",
   "metadata": {},
   "outputs": [
    {
     "data": {
      "text/plain": [
       "'doc'"
      ]
     },
     "execution_count": 2,
     "metadata": {},
     "output_type": "execute_result"
    }
   ],
   "source": [
    "string='doc'#string\n",
    "\n",
    "string"
   ]
  },
  {
   "cell_type": "code",
   "execution_count": 4,
   "id": "3e93eaef",
   "metadata": {},
   "outputs": [
    {
     "data": {
      "text/plain": [
       "'Doc str'"
      ]
     },
     "execution_count": 4,
     "metadata": {},
     "output_type": "execute_result"
    }
   ],
   "source": [
    "dres=\"\"\"Doc str\"\"\"#doc string /document string/formatted string : provides documentation to a function \n",
    "dres"
   ]
  },
  {
   "cell_type": "code",
   "execution_count": 88,
   "id": "f56db9c7",
   "metadata": {},
   "outputs": [],
   "source": [
    "s1 = 'i love python'"
   ]
  },
  {
   "cell_type": "code",
   "execution_count": 89,
   "id": "ce17e502",
   "metadata": {},
   "outputs": [
    {
     "data": {
      "text/plain": [
       "'I love python'"
      ]
     },
     "execution_count": 89,
     "metadata": {},
     "output_type": "execute_result"
    }
   ],
   "source": [
    "s1.capitalize() #capitalizes fisrt letter of the first word of a sentence"
   ]
  },
  {
   "cell_type": "code",
   "execution_count": 90,
   "id": "209a288d",
   "metadata": {},
   "outputs": [
    {
     "data": {
      "text/plain": [
       "'I Love Python'"
      ]
     },
     "execution_count": 90,
     "metadata": {},
     "output_type": "execute_result"
    }
   ],
   "source": [
    "s1.title() #proper case"
   ]
  },
  {
   "cell_type": "code",
   "execution_count": 91,
   "id": "35223282",
   "metadata": {},
   "outputs": [
    {
     "data": {
      "text/plain": [
       "'I LOVE PYTHON'"
      ]
     },
     "execution_count": 91,
     "metadata": {},
     "output_type": "execute_result"
    }
   ],
   "source": [
    "s1.upper()"
   ]
  },
  {
   "cell_type": "code",
   "execution_count": 92,
   "id": "e6dba767",
   "metadata": {},
   "outputs": [
    {
     "data": {
      "text/plain": [
       "'python'"
      ]
     },
     "execution_count": 92,
     "metadata": {},
     "output_type": "execute_result"
    }
   ],
   "source": [
    "s2='Python'\n",
    "s2.lower()"
   ]
  },
  {
   "cell_type": "code",
   "execution_count": 93,
   "id": "f6b4c80b",
   "metadata": {},
   "outputs": [
    {
     "data": {
      "text/plain": [
       "'pYTHON'"
      ]
     },
     "execution_count": 93,
     "metadata": {},
     "output_type": "execute_result"
    }
   ],
   "source": [
    "s2.swapcase()"
   ]
  },
  {
   "cell_type": "code",
   "execution_count": 94,
   "id": "28880ec7",
   "metadata": {},
   "outputs": [
    {
     "data": {
      "text/plain": [
       "(True, False)"
      ]
     },
     "execution_count": 94,
     "metadata": {},
     "output_type": "execute_result"
    }
   ],
   "source": [
    "s2.startswith('Py'), s2.startswith('Fy')"
   ]
  },
  {
   "cell_type": "code",
   "execution_count": 95,
   "id": "291b56f1",
   "metadata": {},
   "outputs": [
    {
     "data": {
      "text/plain": [
       "(False, True)"
      ]
     },
     "execution_count": 95,
     "metadata": {},
     "output_type": "execute_result"
    }
   ],
   "source": [
    "s2.endswith('Py'), s2.endswith('on')"
   ]
  },
  {
   "cell_type": "code",
   "execution_count": 96,
   "id": "221975b9",
   "metadata": {},
   "outputs": [
    {
     "data": {
      "text/plain": [
       "'i love python Python'"
      ]
     },
     "execution_count": 96,
     "metadata": {},
     "output_type": "execute_result"
    }
   ],
   "source": [
    "s1 + ' ' + s2"
   ]
  },
  {
   "cell_type": "code",
   "execution_count": 97,
   "id": "f78e3b73",
   "metadata": {},
   "outputs": [],
   "source": [
    "s3 = 'python3.0'"
   ]
  },
  {
   "cell_type": "code",
   "execution_count": 98,
   "id": "58f71fb0",
   "metadata": {},
   "outputs": [
    {
     "data": {
      "text/plain": [
       "(False, False, False)"
      ]
     },
     "execution_count": 98,
     "metadata": {},
     "output_type": "execute_result"
    }
   ],
   "source": [
    "s3.isalpha(), s3.isalnum(), s3.isnumeric()"
   ]
  },
  {
   "cell_type": "code",
   "execution_count": 2,
   "id": "762abfbe",
   "metadata": {},
   "outputs": [],
   "source": [
    "s4 = 'I love python'"
   ]
  },
  {
   "cell_type": "code",
   "execution_count": 6,
   "id": "d9c3a5f0",
   "metadata": {},
   "outputs": [
    {
     "data": {
      "text/plain": [
       "['I', 'love', 'python']"
      ]
     },
     "execution_count": 6,
     "metadata": {},
     "output_type": "execute_result"
    }
   ],
   "source": [
    "s4.split(' ')"
   ]
  },
  {
   "cell_type": "code",
   "execution_count": 101,
   "id": "7e0b6780",
   "metadata": {},
   "outputs": [],
   "source": [
    "s5 = 'Brown,1200,45000,USA'"
   ]
  },
  {
   "cell_type": "code",
   "execution_count": 102,
   "id": "456a75d0",
   "metadata": {},
   "outputs": [
    {
     "data": {
      "text/plain": [
       "['Brown', '1200', '45000', 'USA']"
      ]
     },
     "execution_count": 102,
     "metadata": {},
     "output_type": "execute_result"
    }
   ],
   "source": [
    "s5.split(',')"
   ]
  },
  {
   "cell_type": "code",
   "execution_count": 103,
   "id": "a7dcdc9e",
   "metadata": {},
   "outputs": [],
   "source": [
    "s6 = 'Apple|Orange|Banana|Kiwi'"
   ]
  },
  {
   "cell_type": "code",
   "execution_count": 104,
   "id": "bdebb6a9",
   "metadata": {},
   "outputs": [
    {
     "data": {
      "text/plain": [
       "['Apple', 'Orange', 'Banana', 'Kiwi']"
      ]
     },
     "execution_count": 104,
     "metadata": {},
     "output_type": "execute_result"
    }
   ],
   "source": [
    "s6.split('|')"
   ]
  },
  {
   "cell_type": "code",
   "execution_count": 105,
   "id": "b69d4364",
   "metadata": {},
   "outputs": [
    {
     "data": {
      "text/plain": [
       "'java i love python'"
      ]
     },
     "execution_count": 105,
     "metadata": {},
     "output_type": "execute_result"
    }
   ],
   "source": [
    "s1 = 'python i love python'\n",
    "s1.replace('python','java',1)"
   ]
  },
  {
   "cell_type": "code",
   "execution_count": 106,
   "id": "f711d7fa",
   "metadata": {},
   "outputs": [
    {
     "data": {
      "text/plain": [
       "'java i love java'"
      ]
     },
     "execution_count": 106,
     "metadata": {},
     "output_type": "execute_result"
    }
   ],
   "source": [
    "s1 = 'python i love python'\n",
    "s1.replace('python','java')"
   ]
  },
  {
   "cell_type": "code",
   "execution_count": 107,
   "id": "17e114ac",
   "metadata": {},
   "outputs": [
    {
     "data": {
      "text/plain": [
       "('python', ' python', 'python ')"
      ]
     },
     "execution_count": 107,
     "metadata": {},
     "output_type": "execute_result"
    }
   ],
   "source": [
    "s7 = ' python '\n",
    "s7.strip(), s7.rstrip(), s7.lstrip()"
   ]
  },
  {
   "cell_type": "code",
   "execution_count": 108,
   "id": "7a5e5c51",
   "metadata": {},
   "outputs": [
    {
     "data": {
      "text/plain": [
       "[3, 7, 10]"
      ]
     },
     "execution_count": 108,
     "metadata": {},
     "output_type": "execute_result"
    }
   ],
   "source": [
    "lst = [7,3,10]\n",
    "lst.sort()\n",
    "lst"
   ]
  },
  {
   "cell_type": "code",
   "execution_count": null,
   "id": "091122a3",
   "metadata": {},
   "outputs": [],
   "source": []
  },
  {
   "cell_type": "code",
   "execution_count": null,
   "id": "0323f778",
   "metadata": {},
   "outputs": [],
   "source": []
  }
 ],
 "metadata": {
  "kernelspec": {
   "display_name": "Python 3 (ipykernel)",
   "language": "python",
   "name": "python3"
  },
  "language_info": {
   "codemirror_mode": {
    "name": "ipython",
    "version": 3
   },
   "file_extension": ".py",
   "mimetype": "text/x-python",
   "name": "python",
   "nbconvert_exporter": "python",
   "pygments_lexer": "ipython3",
   "version": "3.9.13"
  }
 },
 "nbformat": 4,
 "nbformat_minor": 5
}
