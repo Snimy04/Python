{
 "cells": [
  {
   "cell_type": "code",
   "execution_count": 3,
   "id": "077a604a",
   "metadata": {},
   "outputs": [],
   "source": [
    "#Classes always starts with the capital latter\n",
    "#If the class name consists of two words then the fisrt letter of both the word will be capital\n",
    "#Objects should be in all lower cases\n",
    "#function is a standalone function....function inside a class is a method "
   ]
  },
  {
   "cell_type": "code",
   "execution_count": 35,
   "id": "6fe1c184",
   "metadata": {},
   "outputs": [],
   "source": [
    "class Person:\n",
    "    #Define the constructor\n",
    "    def __init__(self,name,age,gender):\n",
    "        self.name=name\n",
    "        self.age=age\n",
    "        self.gender=gender\n",
    "    #define the methods\n",
    "    def say_hello(self):\n",
    "        print(f'{self.name} says hello')\n",
    "    def say_bye(self):\n",
    "        print(f'{self.name} says bye')\n",
    "        \n",
    "\n",
    "    "
   ]
  },
  {
   "cell_type": "code",
   "execution_count": 37,
   "id": "d8c9544d",
   "metadata": {},
   "outputs": [],
   "source": [
    "p1=Person('thomas',18,'m')"
   ]
  },
  {
   "cell_type": "code",
   "execution_count": 38,
   "id": "38ef9a9f",
   "metadata": {},
   "outputs": [],
   "source": [
    "p2=Person('mary',20,'f')"
   ]
  },
  {
   "cell_type": "code",
   "execution_count": 39,
   "id": "dd5c8a6e",
   "metadata": {},
   "outputs": [
    {
     "data": {
      "text/plain": [
       "'thomas'"
      ]
     },
     "execution_count": 39,
     "metadata": {},
     "output_type": "execute_result"
    }
   ],
   "source": [
    "p1.name"
   ]
  },
  {
   "cell_type": "code",
   "execution_count": 40,
   "id": "fbaf1974",
   "metadata": {},
   "outputs": [
    {
     "data": {
      "text/plain": [
       "20"
      ]
     },
     "execution_count": 40,
     "metadata": {},
     "output_type": "execute_result"
    }
   ],
   "source": [
    "p2.age"
   ]
  },
  {
   "cell_type": "code",
   "execution_count": 41,
   "id": "e8c77bec",
   "metadata": {},
   "outputs": [
    {
     "data": {
      "text/plain": [
       "'m'"
      ]
     },
     "execution_count": 41,
     "metadata": {},
     "output_type": "execute_result"
    }
   ],
   "source": [
    "p1.gender"
   ]
  },
  {
   "cell_type": "code",
   "execution_count": 42,
   "id": "9df600c8",
   "metadata": {},
   "outputs": [
    {
     "data": {
      "text/plain": [
       "'f'"
      ]
     },
     "execution_count": 42,
     "metadata": {},
     "output_type": "execute_result"
    }
   ],
   "source": [
    "p2.gender"
   ]
  },
  {
   "cell_type": "code",
   "execution_count": 18,
   "id": "ad36a3d2",
   "metadata": {},
   "outputs": [
    {
     "name": "stdout",
     "output_type": "stream",
     "text": [
      "thomas says hello\n"
     ]
    }
   ],
   "source": [
    "p1.say_hello()"
   ]
  },
  {
   "cell_type": "code",
   "execution_count": 16,
   "id": "0f9355cb",
   "metadata": {},
   "outputs": [
    {
     "name": "stdout",
     "output_type": "stream",
     "text": [
      "mary says hello\n"
     ]
    }
   ],
   "source": [
    "p2.say_hello()"
   ]
  },
  {
   "cell_type": "code",
   "execution_count": 19,
   "id": "9c8c0d94",
   "metadata": {},
   "outputs": [
    {
     "name": "stdout",
     "output_type": "stream",
     "text": [
      "thomas says bye\n"
     ]
    }
   ],
   "source": [
    "p1.say_bye()"
   ]
  },
  {
   "cell_type": "code",
   "execution_count": 20,
   "id": "0253264e",
   "metadata": {},
   "outputs": [
    {
     "name": "stdout",
     "output_type": "stream",
     "text": [
      "mary says bye\n"
     ]
    }
   ],
   "source": [
    "p2.say_bye()"
   ]
  },
  {
   "cell_type": "code",
   "execution_count": 43,
   "id": "00ebefae",
   "metadata": {},
   "outputs": [],
   "source": [
    "class Employee:\n",
    "    #Define the constructor\n",
    "    def __init__(self,eid,name,job):\n",
    "        self.eid=eid\n",
    "        self.name=name\n",
    "        self.job=job\n",
    "    #dfeine the methods\n",
    "    def manage_project(self):\n",
    "        print(f'{self.name} is managing a project')\n",
    "    def make_presentation(self):\n",
    "        print(f'{self.name} is presenting')"
   ]
  },
  {
   "cell_type": "markdown",
   "id": "095a7036",
   "metadata": {},
   "source": [
    "This program defines a simple Python class named Employee with a constructor and two methods. Let's break down each part of the code:\n",
    "In the class definition, there's a constructor method __init__. This method is called when an object of the class is created. It initializes three instance variables (eid, name, and job) with values passed as arguments to the constructor. These variables represent the employee's ID, name, and job title, respectively.\n",
    "The class has two methods: manage_project and make_presentation. Each method takes self as its first parameter, which refers to the instance of the class on which the method is called. These methods are responsible for printing out information about the employee's actions.\n",
    "\n",
    "manage_project Method: Prints a message indicating that the employee is managing a project.\n",
    "\n",
    "make_presentation Method: Prints a message indicating that the employee is making a presentation.\n",
    "\n",
    "\n",
    "\n"
   ]
  },
  {
   "cell_type": "code",
   "execution_count": 47,
   "id": "e6073177",
   "metadata": {},
   "outputs": [],
   "source": [
    "e1=Employee(100,'neph','manager')"
   ]
  },
  {
   "cell_type": "code",
   "execution_count": 51,
   "id": "b313c82b",
   "metadata": {},
   "outputs": [],
   "source": [
    "e2=Employee(101,'cleo','Hr')"
   ]
  },
  {
   "cell_type": "code",
   "execution_count": 49,
   "id": "e0ee3f66",
   "metadata": {},
   "outputs": [
    {
     "data": {
      "text/plain": [
       "'cleo'"
      ]
     },
     "execution_count": 49,
     "metadata": {},
     "output_type": "execute_result"
    }
   ],
   "source": [
    "e1.name"
   ]
  },
  {
   "cell_type": "code",
   "execution_count": 52,
   "id": "c3a46f71",
   "metadata": {},
   "outputs": [
    {
     "data": {
      "text/plain": [
       "'Hr'"
      ]
     },
     "execution_count": 52,
     "metadata": {},
     "output_type": "execute_result"
    }
   ],
   "source": [
    "e2.job"
   ]
  },
  {
   "cell_type": "code",
   "execution_count": 54,
   "id": "6a98f85d",
   "metadata": {},
   "outputs": [
    {
     "name": "stdout",
     "output_type": "stream",
     "text": [
      "cleo is managing a project\n"
     ]
    }
   ],
   "source": [
    "e1.manage_project()\n"
   ]
  },
  {
   "cell_type": "markdown",
   "id": "81b41298",
   "metadata": {},
   "source": [
    "Encapsulation, inheritance, and polymorphism are three key concepts in object-oriented programming (OOP). These concepts help organize and structure code, promote reusability, and enhance the modularity of software systems.\n",
    "\n",
    "Encapsulation:\n",
    "\n",
    "Definition: Encapsulation is the bundling of data (attributes) and the methods (functions) that operate on the data into a single unit called a class. It involves restricting access to some of an object's components and preventing the direct modification of internal state.\n",
    "Key Points:\n",
    "Data Hiding: Encapsulation hides the internal details of an object and exposes only what is necessary.\n",
    "Access Modifiers: In many programming languages, access modifiers (public, private, protected) are used to control the visibility of class members.\n",
    "Information Hiding: Encapsulation provides a way to protect the integrity of an object by hiding the implementation details from the outside world.\n",
    "\n",
    "\n",
    "Inheritance:\n",
    "\n",
    "Definition: Inheritance is a mechanism that allows a new class (subclass or derived class) to inherit attributes and methods from an existing class (base class or parent class). The subclass can then extend or override the inherited functionality.\n",
    "Key Points:\n",
    "Code Reusability: Inheritance promotes code reuse by allowing a class to inherit the properties and behavior of another class.\n",
    "Hierarchy: Classes can be organized in a hierarchical structure where more specialized classes (subclasses) inherit from more general classes (superclasses).\n",
    "Overriding: Subclasses can override methods of the superclass to provide their own implementation."
   ]
  },
  {
   "cell_type": "code",
   "execution_count": 64,
   "id": "b2b0e4c8",
   "metadata": {},
   "outputs": [],
   "source": [
    "class Dancer(Person):'''This line declares a new class named Dancer that inherits from the Person class.\n",
    "Inheritance allows the Dancer class to access and extend the attributes and methods of the Person class.'''\n",
    "    #constructor\n",
    "    def __init__(self,name,gender,age,genre):\n",
    "        super().__init__(name,gender,age)\n",
    "        self.genre=genre'''The __init__ method is the constructor, responsible for initializing the object's\n",
    "        attributes when an instance of the class is created.\n",
    "It takes four parameters (name, gender, age, and genre), in addition to the self parameter,\n",
    "which represents the instance being created.\n",
    "The super().__init__(name, gender, age) line calls the constructor of the superclass (Person in this case) to initialize \n",
    "the common attributes.\n",
    "The line self.genre = genre initializes the genre attribute specific to the Dancer class.'''\n",
    "        \n",
    "    #method\n",
    "    def dance(self):\n",
    "        print(f'{self.name}  is performing  a   {self.genre}   dance')\n",
    "    \n",
    "    "
   ]
  },
  {
   "cell_type": "code",
   "execution_count": 65,
   "id": "5dc9512f",
   "metadata": {},
   "outputs": [],
   "source": [
    "d1=Dancer('madhuri','f',55,'bollywood')"
   ]
  },
  {
   "cell_type": "code",
   "execution_count": 66,
   "id": "6bd9bc21",
   "metadata": {},
   "outputs": [],
   "source": [
    "d2=Dancer('madh','m',59,'calssical')"
   ]
  },
  {
   "cell_type": "code",
   "execution_count": 67,
   "id": "ee4e78f0",
   "metadata": {},
   "outputs": [
    {
     "name": "stdout",
     "output_type": "stream",
     "text": [
      "madhuri  is performing  a   bollywood   dance\n"
     ]
    }
   ],
   "source": [
    "d1.dance()"
   ]
  },
  {
   "cell_type": "code",
   "execution_count": 68,
   "id": "a0b7a3df",
   "metadata": {},
   "outputs": [
    {
     "name": "stdout",
     "output_type": "stream",
     "text": [
      "madh  is performing  a   calssical   dance\n"
     ]
    }
   ],
   "source": [
    "d2.dance()"
   ]
  },
  {
   "cell_type": "code",
   "execution_count": 69,
   "id": "04131886",
   "metadata": {},
   "outputs": [
    {
     "name": "stdout",
     "output_type": "stream",
     "text": [
      "madhuri says hello\n"
     ]
    }
   ],
   "source": [
    "d1.say_hello()"
   ]
  },
  {
   "cell_type": "markdown",
   "id": "8883e7da",
   "metadata": {},
   "source": [
    "Polymorphism:\n",
    "\n",
    "Definition: Polymorphism allows objects of different classes to be treated as objects of a common base class. It enables a single interface to represent different types or forms.\n",
    "Key Points:\n",
    "Method Overloading: Polymorphism supports method overloading, where a class can have multiple methods with the same name but different parameter lists.\n",
    "Method Overriding: Polymorphism also involves method overriding, where a subclassDancer) provides a specific implementation for a method that is already defined in its superclass(People).\n",
    "\n",
    "class Calculator:\n",
    "    def add(self, a, b=0, c=0):\n",
    "        return a + b + c\n",
    "\n",
    "# Creating an instance of the Calculator class\n",
    "calc = Calculator()\n",
    "\n",
    "# Examples of method overloading using default parameter values\n",
    "result1 = calc.add(2, 3)\n",
    "\n",
    "result2 = calc.add(2, 3, 5)\n",
    "\n",
    "# Print the results\n",
    "print(f\"Result 1: {result1}\")  # Output: Result 1: 5\n",
    "print(f\"Result 2: {result2}\")  # Output: Result 2: 10\n",
    "\n",
    "In this example, the Calculator class has an add method with three parameters (a, b, and c). However, the method has default values of 0 for b and c. This allows you to call the add method with different numbers of arguments.\n",
    "\n",
    "When calc.add(2, 3) is called, it uses the default values for b and c, and the result is 2 + 3 + 0 = 5.\n",
    "When calc.add(2, 3, 5) is called, it uses the provided values for b and c, and the result is 2 + 3 + 5 = 10.\n",
    "While this is not traditional method overloading, it provides a flexible way to define methods that can handle different numbers of arguments based on default values.\n",
    "\n",
    "It's worth noting that Python also supports variable-length argument lists using *args and **kwargs for a more dynamic approach to handling multiple arguments in a function.\n",
    "\n",
    "\n",
    "\n",
    "Dynamic Binding: The actual method that gets called is determined at runtime, allowing flexibility and extensibility."
   ]
  },
  {
   "cell_type": "markdown",
   "id": "38966447",
   "metadata": {},
   "source": [
    "# Private nad Public attributes"
   ]
  },
  {
   "cell_type": "code",
   "execution_count": 70,
   "id": "98b53554",
   "metadata": {},
   "outputs": [],
   "source": [
    "class Person:\n",
    "    # Define the constructor\n",
    "    def __init__(self,name,age,gender):\n",
    "        self.name = name\n",
    "        self.__age = age\n",
    "        self.gender = gender\n",
    "    \n",
    "    # Define the methods\n",
    "    def say_hello(self):\n",
    "        print(f'Person {self.name} says hello')\n",
    "        \n",
    "    def say_bye(self):\n",
    "        print(f'Person {self.name} says goodbye')\n",
    "    \n",
    "    def is_eligible(self):\n",
    "        if self.__age >= 18:\n",
    "            return 'Eligible'\n",
    "        else:\n",
    "            return 'Underage'"
   ]
  },
  {
   "cell_type": "code",
   "execution_count": 71,
   "id": "7f7a74a0",
   "metadata": {},
   "outputs": [],
   "source": [
    "p1 = Person('Thomas',18,'M')"
   ]
  },
  {
   "cell_type": "code",
   "execution_count": 1,
   "id": "bd6fdfba",
   "metadata": {},
   "outputs": [
    {
     "ename": "SyntaxError",
     "evalue": "invalid syntax (2034756995.py, line 1)",
     "output_type": "error",
     "traceback": [
      "\u001b[1;36m  Cell \u001b[1;32mIn[1], line 1\u001b[1;36m\u001b[0m\n\u001b[1;33m    p1.Person(__age) '''any attribute starting with a double underscore is a private attribute and private attributes cannot be accessed\u001b[0m\n\u001b[1;37m                     ^\u001b[0m\n\u001b[1;31mSyntaxError\u001b[0m\u001b[1;31m:\u001b[0m invalid syntax\n"
     ]
    }
   ],
   "source": [
    "p1.__age '''any attribute starting with a double underscore is a private attribute and private attributes cannot be accessed \n",
    "outside a class which is exactly what we are doing here which has resulted in the below error'''\n"
   ]
  },
  {
   "cell_type": "code",
   "execution_count": 73,
   "id": "e4fd1f44",
   "metadata": {},
   "outputs": [
    {
     "data": {
      "text/plain": [
       "'Eligible'"
      ]
     },
     "execution_count": 73,
     "metadata": {},
     "output_type": "execute_result"
    }
   ],
   "source": [
    "p1.is_eligible()"
   ]
  },
  {
   "cell_type": "code",
   "execution_count": null,
   "id": "40fe7fdb",
   "metadata": {},
   "outputs": [],
   "source": []
  },
  {
   "cell_type": "code",
   "execution_count": null,
   "id": "ece97c1c",
   "metadata": {},
   "outputs": [],
   "source": []
  }
 ],
 "metadata": {
  "kernelspec": {
   "display_name": "Python 3 (ipykernel)",
   "language": "python",
   "name": "python3"
  },
  "language_info": {
   "codemirror_mode": {
    "name": "ipython",
    "version": 3
   },
   "file_extension": ".py",
   "mimetype": "text/x-python",
   "name": "python",
   "nbconvert_exporter": "python",
   "pygments_lexer": "ipython3",
   "version": "3.9.13"
  }
 },
 "nbformat": 4,
 "nbformat_minor": 5
}
