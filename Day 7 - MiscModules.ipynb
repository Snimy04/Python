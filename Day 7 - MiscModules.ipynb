{
 "cells": [
  {
   "cell_type": "markdown",
   "metadata": {},
   "source": [
    "## 1. Regular Expressions"
   ]
  },
  {
   "cell_type": "markdown",
   "metadata": {},
   "source": [
    "### <font color ='brown'> Notes </font>\n",
    "\n",
    "#### Format: match = re.search(pat, str) \n",
    "\n",
    "+ a, X, 9, < -- ordinary characters just match themselves exactly. \n",
    "+ The meta-characters which do not match themselves because they have special meanings are: . ^ $ * + ? { [ ] \\ | ( ) \n",
    "+ . (a period) -- matches any single character except newline '\\n'\n",
    "+ . (a period) -- matches any\n",
    "+ \\w -- (lowercase w) matches a \"word\" character: a letter or digit or underbar [a-zA-Z0-9_]. \n",
    "+ \\b -- boundary between word and non-word\n",
    "+ \\s -- (lowercase s) matches a single whitespace character -- space, newline, return, tab, form [ \\n\\r\\t\\f]. \n",
    "+ \\S (upper case S) matches any non-whitespace character.\n",
    "+ \\t, \\n, \\r -- tab, newline, return\n",
    "+ \\d -- decimal digit [0-9] \n",
    "\n",
    "+ ^ = start, $ = end -- match the start or end of the string\n",
    "+ \\ -- inhibit the \"specialness\" of a character. "
   ]
  },
  {
   "cell_type": "code",
   "execution_count": 1,
   "metadata": {},
   "outputs": [],
   "source": [
    "import re"
   ]
  },
  {
   "cell_type": "code",
   "execution_count": null,
   "metadata": {},
   "outputs": [
    {
     "name": "stdout",
     "output_type": "stream",
     "text": [
      "ix\n"
     ]
    }
   ],
   "source": [
    "match = re.search('ix','six')\n",
    "print(match.group())\n",
    "#print(match)"
   ]
  },
  {
   "cell_type": "code",
   "execution_count": null,
   "metadata": {},
   "outputs": [],
   "source": [
    "match = re.search('jx','six')\n",
    "\n",
    "if match:\n",
    "    print('Found ', match.group())\n",
    "else:\n",
    "    print('No Match')"
   ]
  },
  {
   "cell_type": "code",
   "execution_count": 4,
   "metadata": {},
   "outputs": [],
   "source": [
    "search_str = 'Patronising'\n",
    "match = re.search('^Pat',search_str)\n",
    "\n",
    "if match:\n",
    "    print('Found ', match.group())\n",
    "else:\n",
    "    print('No Match')"
   ]
  },
  {
   "cell_type": "code",
   "execution_count": 5,
   "metadata": {},
   "outputs": [
    {
     "name": "stdout",
     "output_type": "stream",
     "text": [
      "Found  sing\n"
     ]
    }
   ],
   "source": [
    "## End with\n",
    "match = re.search('sing$',search_str)\n",
    "\n",
    "if match:\n",
    "    print('Found ', match.group())\n",
    "else:\n",
    "    print('No Match')"
   ]
  },
  {
   "cell_type": "code",
   "execution_count": 6,
   "metadata": {},
   "outputs": [
    {
     "name": "stdout",
     "output_type": "stream",
     "text": [
      "No Match\n"
     ]
    }
   ],
   "source": [
    "### Starts with\n",
    "search_str = 'PPatronising'\n",
    "\n",
    "match = re.search('^Patr',search_str)\n",
    "\n",
    "if match:\n",
    "    print('Found ', match.group())\n",
    "else:\n",
    "    print('No Match')"
   ]
  },
  {
   "cell_type": "code",
   "execution_count": 7,
   "metadata": {},
   "outputs": [
    {
     "name": "stdout",
     "output_type": "stream",
     "text": [
      "Found  xyz$\n"
     ]
    }
   ],
   "source": [
    "## . = any char but \\n\n",
    "\n",
    "match =  re.search('....','xyz$')\n",
    "if match:\n",
    "    print('Found ', match.group())\n",
    "else:\n",
    "    print('No Match')"
   ]
  },
  {
   "cell_type": "markdown",
   "metadata": {},
   "source": [
    "+ \\w -- (lowercase w) matches a \"word\" character: a letter or digit or underbar [a-zA-Z0-9_]. \n",
    "+ \\d -- decimal digit [0-9] "
   ]
  },
  {
   "cell_type": "code",
   "execution_count": 8,
   "metadata": {},
   "outputs": [
    {
     "name": "stdout",
     "output_type": "stream",
     "text": [
      "Found  b_9@\n"
     ]
    }
   ],
   "source": [
    "## \\d = digit , \\w =  char\n",
    "#match = re.search('\\d\\d\\d', 'A678B.C') \n",
    "match = re.search('\\w\\w\\w@', 'rrab_9@xy.com') \n",
    "\n",
    "if match:\n",
    "    print('Found ', match.group())\n",
    "else:\n",
    "    print('No Match')\n",
    "    "
   ]
  },
  {
   "cell_type": "code",
   "execution_count": 9,
   "metadata": {},
   "outputs": [
    {
     "name": "stdout",
     "output_type": "stream",
     "text": [
      "Found   123 \n"
     ]
    }
   ],
   "source": [
    "## \\s = space \n",
    "match = re.search('\\s\\d\\d\\d\\s', 'B753 B.C 123 ') \n",
    "\n",
    "if match:\n",
    "    print('Found ', match.group())\n",
    "else:\n",
    "    print('No Match')"
   ]
  },
  {
   "cell_type": "markdown",
   "metadata": {},
   "source": [
    "#### Repetition"
   ]
  },
  {
   "cell_type": "markdown",
   "metadata": {},
   "source": [
    "+ '+'   -- 1 or more occurrences of the pattern to its left, e.g. 'i+' = one or more i's\n",
    "+ '*'   -- 0 or more occurrences of the pattern to its left\n",
    "+ '?'   -- match 0 or 1 occurrences of the pattern to its left"
   ]
  },
  {
   "cell_type": "code",
   "execution_count": 10,
   "metadata": {},
   "outputs": [
    {
     "name": "stdout",
     "output_type": "stream",
     "text": [
      "Found  hell\n"
     ]
    }
   ],
   "source": [
    "match = re.search('hello*', 'hell') \n",
    "if match:\n",
    "    print('Found ', match.group())"
   ]
  },
  {
   "cell_type": "code",
   "execution_count": 11,
   "metadata": {},
   "outputs": [
    {
     "name": "stdout",
     "output_type": "stream",
     "text": [
      "Found  helloooo\n"
     ]
    }
   ],
   "source": [
    "#match = re.search('hello*', 'hell') \n",
    "match = re.search('hello*', 'helloooo') \n",
    "if match:\n",
    "    print('Found ', match.group())"
   ]
  },
  {
   "cell_type": "code",
   "execution_count": 12,
   "metadata": {},
   "outputs": [
    {
     "name": "stdout",
     "output_type": "stream",
     "text": [
      "Found  1  23\n"
     ]
    }
   ],
   "source": [
    "## \\s* = zero or more whitespace chars\n",
    "## Here look for 3 digits, possibly separated by whitespace.\n",
    "match = re.search('\\d\\s*\\d\\s*\\d', 'xx1  23xx')\n",
    "if match:\n",
    "    print('Found ', match.group())"
   ]
  },
  {
   "cell_type": "markdown",
   "metadata": {},
   "source": [
    "#### Matching emails"
   ]
  },
  {
   "cell_type": "code",
   "execution_count": 13,
   "metadata": {},
   "outputs": [],
   "source": [
    "str = 'My email is pink_elephant11@google.com. Thank you'\n",
    "\n",
    "match = re.search('\\w+-\\w+@\\w+\\.com', str)\n",
    "if match:\n",
    "    print(match.group()  )\n"
   ]
  },
  {
   "cell_type": "code",
   "execution_count": 14,
   "metadata": {},
   "outputs": [
    {
     "name": "stdout",
     "output_type": "stream",
     "text": [
      "pink_elephant11@google.com\n"
     ]
    }
   ],
   "source": [
    "str = 'My email is pink_elephant11@google.com. Thank you'\n",
    "\n",
    "match = re.search('\\w+@\\w+\\.com', str)\n",
    "if match:\n",
    "    print(match.group()  )"
   ]
  },
  {
   "cell_type": "code",
   "execution_count": 15,
   "metadata": {},
   "outputs": [
    {
     "name": "stdout",
     "output_type": "stream",
     "text": [
      "pink-elephant11@google.com\n"
     ]
    }
   ],
   "source": [
    "str = 'My email is pink-elephant11@google.com. You can also use white-elephant@gmail.com. Thank you'\n",
    "\n",
    "match = re.search('\\w+-\\w+@\\w+\\.com', str)\n",
    "if match:\n",
    "    print(match.group()  )"
   ]
  },
  {
   "cell_type": "code",
   "execution_count": null,
   "metadata": {},
   "outputs": [],
   "source": [
    "## Suppose we have a text with many email addresses\n",
    "my_str = 'My email is pink-elephant11@google.com. You can also use white-elephant@gmail.com. Thank you'\n",
    "\n",
    "\n",
    "  ## re.findall() returns a list of all the found email strings\n",
    "emails = re.findall('\\w+-\\w+@\\w+\\.com', my_str) \n",
    "for x in emails:\n",
    "    print (x)\n",
    "#print(emails)"
   ]
  },
  {
   "cell_type": "code",
   "execution_count": null,
   "metadata": {},
   "outputs": [],
   "source": [
    "# Match any one character\n",
    "#str = 'My email is pink-ele-phant11@google.com. Thank you'\n",
    "str = 'My email is pink-elephant11@google.com. Thank you'\n",
    "\n",
    "match = re.search('[\\w-]+@\\w+\\.com', str)\n",
    "#match = re.search('\\w+.\\w+@\\w+\\.com', str)\n",
    "if match:\n",
    "    print(match.group()  )"
   ]
  },
  {
   "cell_type": "code",
   "execution_count": null,
   "metadata": {},
   "outputs": [],
   "source": [
    "match = re.search('\\w+-\\w+@\\w+\\.com', str)\n",
    "if match:\n",
    "    print(match.group()  )"
   ]
  },
  {
   "cell_type": "markdown",
   "metadata": {},
   "source": [
    "#### Group Extraction"
   ]
  },
  {
   "cell_type": "code",
   "execution_count": null,
   "metadata": {},
   "outputs": [],
   "source": [
    "#my_str = 'My email is pink-elephant@gmail.com. Thank you'\n",
    "my_str = 'Please contact support@gmail.com for any queries. You can also reach me at pink-elephant@gmail.com. Thank you'\n",
    "\n",
    "\n",
    "## Remove specialness of a character\n",
    "match = re.search('([\\w-]+)@([\\w-]+\\.com)', my_str)\n",
    "if match:\n",
    "    print('user name: ', match.group(1) )\n",
    "    print('email provider: ', match.group(2) )"
   ]
  },
  {
   "cell_type": "code",
   "execution_count": null,
   "metadata": {},
   "outputs": [],
   "source": [
    "## Suppose we have a text with many email addresses\n",
    "my_str = 'Please contact support@gmail.com for any queries. You can also reach me at pink.elephant@gmail.com. Thank you'\n",
    "\n",
    "  ## re.findall() returns a list of all the found email strings\n",
    "emails = re.findall('[\\w\\.]+@[\\w\\.]+', my_str) \n",
    "for x in emails:\n",
    "    print (x)\n",
    "#print(emails)\n"
   ]
  },
  {
   "cell_type": "markdown",
   "metadata": {},
   "source": [
    "### String Substitution"
   ]
  },
  {
   "cell_type": "code",
   "execution_count": 16,
   "metadata": {},
   "outputs": [
    {
     "name": "stdout",
     "output_type": "stream",
     "text": [
      "Champakali\n"
     ]
    }
   ],
   "source": [
    "my_str = 'Anarkali'\n",
    "print(re.sub('Anar','Champa',my_str))"
   ]
  },
  {
   "cell_type": "markdown",
   "metadata": {},
   "source": [
    "# 2. Math"
   ]
  },
  {
   "cell_type": "code",
   "execution_count": null,
   "metadata": {},
   "outputs": [],
   "source": [
    "import math"
   ]
  },
  {
   "cell_type": "code",
   "execution_count": null,
   "metadata": {},
   "outputs": [],
   "source": [
    "#dir(math)"
   ]
  },
  {
   "cell_type": "code",
   "execution_count": null,
   "metadata": {},
   "outputs": [],
   "source": [
    "math.pow(10,3)"
   ]
  },
  {
   "cell_type": "code",
   "execution_count": null,
   "metadata": {},
   "outputs": [],
   "source": [
    "math.ceil(3.2)"
   ]
  },
  {
   "cell_type": "code",
   "execution_count": null,
   "metadata": {},
   "outputs": [],
   "source": [
    "math.floor(3.8)"
   ]
  },
  {
   "cell_type": "code",
   "execution_count": null,
   "metadata": {},
   "outputs": [],
   "source": [
    "math.trunc(4.7676)"
   ]
  },
  {
   "cell_type": "code",
   "execution_count": null,
   "metadata": {},
   "outputs": [],
   "source": [
    "round(4.22777,2)"
   ]
  },
  {
   "cell_type": "code",
   "execution_count": null,
   "metadata": {},
   "outputs": [],
   "source": [
    "round(4.6)"
   ]
  },
  {
   "cell_type": "code",
   "execution_count": null,
   "metadata": {},
   "outputs": [],
   "source": [
    "# log - base 2\n",
    "math.log(3,2)"
   ]
  },
  {
   "cell_type": "code",
   "execution_count": null,
   "metadata": {},
   "outputs": [],
   "source": [
    "# natural log - base e\n",
    "math.log(3)"
   ]
  },
  {
   "cell_type": "code",
   "execution_count": null,
   "metadata": {},
   "outputs": [],
   "source": [
    "math.sqrt(9)"
   ]
  },
  {
   "cell_type": "code",
   "execution_count": null,
   "metadata": {},
   "outputs": [],
   "source": [
    "math.pi"
   ]
  },
  {
   "cell_type": "code",
   "execution_count": null,
   "metadata": {},
   "outputs": [],
   "source": [
    "math.cos(0)"
   ]
  },
  {
   "cell_type": "code",
   "execution_count": null,
   "metadata": {},
   "outputs": [],
   "source": [
    "math.cos(90)"
   ]
  },
  {
   "cell_type": "code",
   "execution_count": null,
   "metadata": {},
   "outputs": [],
   "source": [
    "math.factorial(5)"
   ]
  },
  {
   "cell_type": "markdown",
   "metadata": {},
   "source": [
    "# 3. Calendar"
   ]
  },
  {
   "cell_type": "code",
   "execution_count": 22,
   "metadata": {},
   "outputs": [],
   "source": [
    "import calendar\n",
    "#dir(calendar)"
   ]
  },
  {
   "cell_type": "code",
   "execution_count": 23,
   "metadata": {},
   "outputs": [
    {
     "name": "stdout",
     "output_type": "stream",
     "text": [
      "The calendar of year 2023 is : \n",
      "                                 2023\n",
      "\n",
      "      January                  February                  March\n",
      "Mo Tu We Th Fr Sa Su     Mo Tu We Th Fr Sa Su     Mo Tu We Th Fr Sa Su\n",
      "                   1            1  2  3  4  5            1  2  3  4  5\n",
      " 2  3  4  5  6  7  8      6  7  8  9 10 11 12      6  7  8  9 10 11 12\n",
      " 9 10 11 12 13 14 15     13 14 15 16 17 18 19     13 14 15 16 17 18 19\n",
      "16 17 18 19 20 21 22     20 21 22 23 24 25 26     20 21 22 23 24 25 26\n",
      "23 24 25 26 27 28 29     27 28                    27 28 29 30 31\n",
      "30 31\n",
      "\n",
      "       April                     May                      June\n",
      "Mo Tu We Th Fr Sa Su     Mo Tu We Th Fr Sa Su     Mo Tu We Th Fr Sa Su\n",
      "                1  2      1  2  3  4  5  6  7               1  2  3  4\n",
      " 3  4  5  6  7  8  9      8  9 10 11 12 13 14      5  6  7  8  9 10 11\n",
      "10 11 12 13 14 15 16     15 16 17 18 19 20 21     12 13 14 15 16 17 18\n",
      "17 18 19 20 21 22 23     22 23 24 25 26 27 28     19 20 21 22 23 24 25\n",
      "24 25 26 27 28 29 30     29 30 31                 26 27 28 29 30\n",
      "\n",
      "        July                    August                 September\n",
      "Mo Tu We Th Fr Sa Su     Mo Tu We Th Fr Sa Su     Mo Tu We Th Fr Sa Su\n",
      "                1  2         1  2  3  4  5  6                  1  2  3\n",
      " 3  4  5  6  7  8  9      7  8  9 10 11 12 13      4  5  6  7  8  9 10\n",
      "10 11 12 13 14 15 16     14 15 16 17 18 19 20     11 12 13 14 15 16 17\n",
      "17 18 19 20 21 22 23     21 22 23 24 25 26 27     18 19 20 21 22 23 24\n",
      "24 25 26 27 28 29 30     28 29 30 31              25 26 27 28 29 30\n",
      "31\n",
      "\n",
      "      October                  November                 December\n",
      "Mo Tu We Th Fr Sa Su     Mo Tu We Th Fr Sa Su     Mo Tu We Th Fr Sa Su\n",
      "                   1            1  2  3  4  5                  1  2  3\n",
      " 2  3  4  5  6  7  8      6  7  8  9 10 11 12      4  5  6  7  8  9 10\n",
      " 9 10 11 12 13 14 15     13 14 15 16 17 18 19     11 12 13 14 15 16 17\n",
      "16 17 18 19 20 21 22     20 21 22 23 24 25 26     18 19 20 21 22 23 24\n",
      "23 24 25 26 27 28 29     27 28 29 30              25 26 27 28 29 30 31\n",
      "30 31\n",
      "\n"
     ]
    }
   ],
   "source": [
    "print (\"The calendar of year 2023 is : \")\n",
    "print(calendar.calendar(2023,1,1,5))"
   ]
  },
  {
   "cell_type": "code",
   "execution_count": 26,
   "metadata": {},
   "outputs": [
    {
     "name": "stdout",
     "output_type": "stream",
     "text": [
      "The Dec month of 2023 is :\n",
      "   December 2023\n",
      "Mo Tu We Th Fr Sa Su\n",
      "             1  2  3\n",
      " 4  5  6  7  8  9 10\n",
      "11 12 13 14 15 16 17\n",
      "18 19 20 21 22 23 24\n",
      "25 26 27 28 29 30 31\n",
      "\n"
     ]
    }
   ],
   "source": [
    "print (\"The Dec month of 2023 is :\")\n",
    "print (calendar.month(2023,12,2,1))"
   ]
  },
  {
   "cell_type": "code",
   "execution_count": null,
   "metadata": {},
   "outputs": [],
   "source": [
    "calendar.monthcalendar(2023,12)"
   ]
  },
  {
   "cell_type": "code",
   "execution_count": 17,
   "metadata": {},
   "outputs": [
    {
     "ename": "NameError",
     "evalue": "name 'calendar' is not defined",
     "output_type": "error",
     "traceback": [
      "\u001b[1;31m---------------------------------------------------------------------------\u001b[0m",
      "\u001b[1;31mNameError\u001b[0m                                 Traceback (most recent call last)",
      "Cell \u001b[1;32mIn[17], line 1\u001b[0m\n\u001b[1;32m----> 1\u001b[0m \u001b[43mcalendar\u001b[49m\u001b[38;5;241m.\u001b[39misleap(\u001b[38;5;241m2020\u001b[39m)\n",
      "\u001b[1;31mNameError\u001b[0m: name 'calendar' is not defined"
     ]
    }
   ],
   "source": [
    "calendar.isleap(2020)"
   ]
  },
  {
   "cell_type": "markdown",
   "metadata": {},
   "source": [
    "# 4. datetime"
   ]
  },
  {
   "cell_type": "code",
   "execution_count": null,
   "metadata": {},
   "outputs": [],
   "source": [
    "import pandas as pd"
   ]
  },
  {
   "cell_type": "code",
   "execution_count": null,
   "metadata": {},
   "outputs": [],
   "source": [
    "df = pd.read_csv('date_format.csv')\n",
    "df"
   ]
  },
  {
   "cell_type": "code",
   "execution_count": 27,
   "metadata": {},
   "outputs": [],
   "source": [
    "import datetime"
   ]
  },
  {
   "cell_type": "code",
   "execution_count": 28,
   "metadata": {},
   "outputs": [
    {
     "data": {
      "text/plain": [
       "datetime.datetime(2024, 3, 5, 17, 47, 41, 145850)"
      ]
     },
     "execution_count": 28,
     "metadata": {},
     "output_type": "execute_result"
    }
   ],
   "source": [
    "x = datetime.datetime.now()\n",
    "x"
   ]
  },
  {
   "cell_type": "code",
   "execution_count": 29,
   "metadata": {},
   "outputs": [
    {
     "data": {
      "text/plain": [
       "datetime.datetime"
      ]
     },
     "execution_count": 29,
     "metadata": {},
     "output_type": "execute_result"
    }
   ],
   "source": [
    "type(x)"
   ]
  },
  {
   "cell_type": "code",
   "execution_count": null,
   "metadata": {},
   "outputs": [],
   "source": [
    "print(x)"
   ]
  },
  {
   "cell_type": "code",
   "execution_count": null,
   "metadata": {},
   "outputs": [],
   "source": [
    "print(x.year)"
   ]
  },
  {
   "cell_type": "code",
   "execution_count": null,
   "metadata": {},
   "outputs": [],
   "source": [
    "print(x.month)"
   ]
  },
  {
   "cell_type": "code",
   "execution_count": 30,
   "metadata": {},
   "outputs": [
    {
     "name": "stdout",
     "output_type": "stream",
     "text": [
      "March\n"
     ]
    }
   ],
   "source": [
    "print(x.strftime(\"%B\"))"
   ]
  },
  {
   "cell_type": "code",
   "execution_count": null,
   "metadata": {},
   "outputs": [],
   "source": [
    "print(x.strftime(\"%d-%b-%Y %I:%M %p\"))"
   ]
  },
  {
   "cell_type": "code",
   "execution_count": null,
   "metadata": {},
   "outputs": [],
   "source": [
    "print(x.strftime(\"%dth %B %Y %H:%M %p\"))"
   ]
  },
  {
   "cell_type": "code",
   "execution_count": null,
   "metadata": {},
   "outputs": [],
   "source": [
    "print(x.strftime(\"%d-%m-%y\"))"
   ]
  },
  {
   "cell_type": "markdown",
   "metadata": {},
   "source": [
    "##### a. Create your own datetime object"
   ]
  },
  {
   "cell_type": "code",
   "execution_count": null,
   "metadata": {},
   "outputs": [],
   "source": [
    "x_datetime=datetime.datetime(2024,1,1,20,25,0,0)\n",
    "print(x_datetime)"
   ]
  },
  {
   "cell_type": "code",
   "execution_count": null,
   "metadata": {},
   "outputs": [],
   "source": [
    "print(x_datetime.strftime('%A %dst %b %H:%M %p'))"
   ]
  },
  {
   "cell_type": "markdown",
   "metadata": {},
   "source": [
    "##### b. Create a date object"
   ]
  },
  {
   "cell_type": "code",
   "execution_count": null,
   "metadata": {},
   "outputs": [],
   "source": [
    "d = datetime.date(2022,12,6)\n",
    "print(d)"
   ]
  },
  {
   "cell_type": "code",
   "execution_count": null,
   "metadata": {},
   "outputs": [],
   "source": [
    "print(\"today's date: \", datetime.date.today())"
   ]
  },
  {
   "cell_type": "markdown",
   "metadata": {},
   "source": [
    "##### c. Create a time object"
   ]
  },
  {
   "cell_type": "code",
   "execution_count": null,
   "metadata": {},
   "outputs": [],
   "source": [
    "t = datetime.time(18,50,12)\n",
    "print(t)"
   ]
  },
  {
   "cell_type": "code",
   "execution_count": null,
   "metadata": {},
   "outputs": [],
   "source": [
    "print(t.strftime(\"%I:%M:%S %p\"))"
   ]
  },
  {
   "cell_type": "markdown",
   "metadata": {},
   "source": [
    "##### Date difference"
   ]
  },
  {
   "cell_type": "code",
   "execution_count": null,
   "metadata": {},
   "outputs": [],
   "source": [
    "date1 = datetime.date(2018, 12, 13)\n",
    "date2 = datetime.date(2019, 2, 25)\n",
    "\n",
    "diff = date2 - date1\n",
    "diff.days"
   ]
  },
  {
   "cell_type": "code",
   "execution_count": null,
   "metadata": {},
   "outputs": [],
   "source": []
  }
 ],
 "metadata": {
  "interpreter": {
   "hash": "bab68610a7da1c397d023cc1b38559851e158552e221441758b9edad06bfc4f6"
  },
  "kernelspec": {
   "display_name": "Python 3 (ipykernel)",
   "language": "python",
   "name": "python3"
  },
  "language_info": {
   "codemirror_mode": {
    "name": "ipython",
    "version": 3
   },
   "file_extension": ".py",
   "mimetype": "text/x-python",
   "name": "python",
   "nbconvert_exporter": "python",
   "pygments_lexer": "ipython3",
   "version": "3.9.13"
  }
 },
 "nbformat": 4,
 "nbformat_minor": 4
}
