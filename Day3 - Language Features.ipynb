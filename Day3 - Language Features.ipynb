{
 "cells": [
  {
   "cell_type": "markdown",
   "id": "f3deb23a",
   "metadata": {},
   "source": [
    "## If Statement"
   ]
  },
  {
   "cell_type": "code",
   "execution_count": 3,
   "id": "bde41be0",
   "metadata": {},
   "outputs": [],
   "source": [
    "num = -10"
   ]
  },
  {
   "cell_type": "code",
   "execution_count": 4,
   "id": "534dc70e",
   "metadata": {},
   "outputs": [
    {
     "name": "stdout",
     "output_type": "stream",
     "text": [
      "Negative\n"
     ]
    }
   ],
   "source": [
    "if num > 0:\n",
    "    print('Positive')\n",
    "else:\n",
    "    print('Negative')"
   ]
  },
  {
   "cell_type": "code",
   "execution_count": 11,
   "id": "186db4e4",
   "metadata": {},
   "outputs": [],
   "source": [
    "marks = 35"
   ]
  },
  {
   "cell_type": "code",
   "execution_count": 12,
   "id": "083b0911",
   "metadata": {},
   "outputs": [
    {
     "name": "stdout",
     "output_type": "stream",
     "text": [
      "Fail\n"
     ]
    }
   ],
   "source": [
    "if marks >= 80:\n",
    "    print('Distinction')\n",
    "elif marks >= 60:\n",
    "    print('First Class')\n",
    "elif marks >= 40:\n",
    "    print('Pass')\n",
    "else:\n",
    "    print('Fail')"
   ]
  },
  {
   "cell_type": "markdown",
   "id": "bbd3c77d",
   "metadata": {},
   "source": [
    "# Loops"
   ]
  },
  {
   "cell_type": "code",
   "execution_count": 3,
   "id": "89211461",
   "metadata": {},
   "outputs": [],
   "source": [
    "mark_lst = [65,71,45,89,55,30]"
   ]
  },
  {
   "cell_type": "code",
   "execution_count": 5,
   "id": "970e75ab",
   "metadata": {},
   "outputs": [
    {
     "name": "stdout",
     "output_type": "stream",
     "text": [
      "65  -> First Class\n",
      "71  -> First Class\n",
      "45  -> Pass\n",
      "89  -> Distinction\n",
      "55  -> Pass\n",
      "30  -> Fail\n"
     ]
    }
   ],
   "source": [
    "for x in mark_lst:\n",
    "    if x >= 80:\n",
    "        print(x,' -> Distinction')\n",
    "    elif x >= 60:\n",
    "        print(x,' -> First Class')\n",
    "    elif x >= 40:\n",
    "        print(x,' -> Pass')\n",
    "    else:\n",
    "        print(x,' -> Fail')"
   ]
  },
  {
   "cell_type": "code",
   "execution_count": 8,
   "id": "f4dd2aae",
   "metadata": {},
   "outputs": [
    {
     "name": "stdout",
     "output_type": "stream",
     "text": [
      "1\n",
      "2\n",
      "3\n",
      "4\n",
      "5\n"
     ]
    }
   ],
   "source": [
    "for x in range(1,6):\n",
    "    print(x)"
   ]
  },
  {
   "cell_type": "code",
   "execution_count": 13,
   "id": "e2208744",
   "metadata": {},
   "outputs": [
    {
     "name": "stdout",
     "output_type": "stream",
     "text": [
      "5\n",
      "4\n",
      "3\n",
      "2\n",
      "1\n"
     ]
    }
   ],
   "source": [
    "for x in range(5,0,-1):\n",
    "    print(x)"
   ]
  },
  {
   "cell_type": "code",
   "execution_count": 11,
   "id": "229daf7f",
   "metadata": {},
   "outputs": [
    {
     "name": "stdout",
     "output_type": "stream",
     "text": [
      "0\n",
      "20\n",
      "40\n",
      "60\n",
      "80\n",
      "100\n"
     ]
    }
   ],
   "source": [
    "for x in range(0,101,20):\n",
    "    print(x)"
   ]
  },
  {
   "cell_type": "code",
   "execution_count": 14,
   "id": "b4a3cbe6",
   "metadata": {},
   "outputs": [
    {
     "name": "stdout",
     "output_type": "stream",
     "text": [
      "*\n",
      "**\n",
      "***\n",
      "****\n",
      "*****\n"
     ]
    }
   ],
   "source": [
    "for x in range(1,6):\n",
    "    print( '*' * x )"
   ]
  },
  {
   "cell_type": "markdown",
   "id": "f16d38eb",
   "metadata": {},
   "source": [
    "### While loop"
   ]
  },
  {
   "cell_type": "code",
   "execution_count": 16,
   "id": "6d822cd5",
   "metadata": {},
   "outputs": [
    {
     "name": "stdout",
     "output_type": "stream",
     "text": [
      "Hello\n",
      "Hello\n",
      "Hello\n",
      "Hello\n",
      "Hello\n"
     ]
    }
   ],
   "source": [
    "cnt = 0\n",
    "while cnt < 5:\n",
    "    print('Hello')\n",
    "    cnt = cnt + 1"
   ]
  },
  {
   "cell_type": "markdown",
   "id": "ce95d166",
   "metadata": {},
   "source": [
    "## Function"
   ]
  },
  {
   "cell_type": "code",
   "execution_count": 30,
   "id": "a8f32cfc",
   "metadata": {},
   "outputs": [],
   "source": [
    "def square(x):\n",
    "    '''\n",
    "    Parameter : Numeric value\n",
    "    Returns: Square of the number\n",
    "    '''\n",
    "    return x**2"
   ]
  },
  {
   "cell_type": "code",
   "execution_count": 31,
   "id": "665735d2",
   "metadata": {},
   "outputs": [
    {
     "data": {
      "text/plain": [
       "36"
      ]
     },
     "execution_count": 31,
     "metadata": {},
     "output_type": "execute_result"
    }
   ],
   "source": [
    "square(6)"
   ]
  },
  {
   "cell_type": "code",
   "execution_count": 32,
   "id": "48e61018",
   "metadata": {},
   "outputs": [
    {
     "data": {
      "text/plain": [
       "144"
      ]
     },
     "execution_count": 32,
     "metadata": {},
     "output_type": "execute_result"
    }
   ],
   "source": [
    "square(12)"
   ]
  },
  {
   "cell_type": "code",
   "execution_count": 33,
   "id": "ed5b6235",
   "metadata": {},
   "outputs": [
    {
     "name": "stdout",
     "output_type": "stream",
     "text": [
      "Help on function square in module __main__:\n",
      "\n",
      "square(x)\n",
      "    Parameter : Numeric value\n",
      "    Returns: Square of the number\n",
      "\n"
     ]
    }
   ],
   "source": [
    "help(square)"
   ]
  },
  {
   "cell_type": "code",
   "execution_count": 34,
   "id": "ee81caee",
   "metadata": {},
   "outputs": [],
   "source": [
    "def print_hello(n):\n",
    "    cnt = 0\n",
    "    while cnt < n:\n",
    "        print('Hello')\n",
    "        cnt = cnt + 1"
   ]
  },
  {
   "cell_type": "code",
   "execution_count": 36,
   "id": "d076c8ca",
   "metadata": {},
   "outputs": [
    {
     "name": "stdout",
     "output_type": "stream",
     "text": [
      "Hello\n",
      "Hello\n"
     ]
    }
   ],
   "source": [
    "print_hello(2)"
   ]
  },
  {
   "cell_type": "code",
   "execution_count": 37,
   "id": "4b4d3db8",
   "metadata": {},
   "outputs": [],
   "source": [
    "def grades(x):\n",
    "    if x >= 80:\n",
    "        res= 'Distinction'\n",
    "    elif x >= 60:\n",
    "        res = 'First Class'\n",
    "    elif x >= 40:\n",
    "        res = 'Pass'\n",
    "    else:\n",
    "        res = 'Fail'\n",
    "    return res"
   ]
  },
  {
   "cell_type": "code",
   "execution_count": 38,
   "id": "948bb373",
   "metadata": {},
   "outputs": [
    {
     "data": {
      "text/plain": [
       "'Distinction'"
      ]
     },
     "execution_count": 38,
     "metadata": {},
     "output_type": "execute_result"
    }
   ],
   "source": [
    "grades(87)"
   ]
  },
  {
   "cell_type": "markdown",
   "id": "eb4deac6",
   "metadata": {},
   "source": [
    "## Lambda Function\n",
    "Anonymous or nameless Functions\n",
    " Lambda functions are efficient whenever you want to create a function that will only contain simple expressions – that is, expressions that are usually a single line of a statement"
   ]
  },
  {
   "cell_type": "code",
   "execution_count": 39,
   "id": "33ce5f50",
   "metadata": {},
   "outputs": [],
   "source": [
    "fn = lambda x: x**2"
   ]
  },
  {
   "cell_type": "code",
   "execution_count": 40,
   "id": "e70ccd49",
   "metadata": {},
   "outputs": [
    {
     "data": {
      "text/plain": [
       "49"
      ]
     },
     "execution_count": 40,
     "metadata": {},
     "output_type": "execute_result"
    }
   ],
   "source": [
    "fn(7)"
   ]
  },
  {
   "cell_type": "code",
   "execution_count": 41,
   "id": "f7887621",
   "metadata": {},
   "outputs": [],
   "source": [
    "fn = lambda x,y: x + y"
   ]
  },
  {
   "cell_type": "code",
   "execution_count": 42,
   "id": "094e94e1",
   "metadata": {},
   "outputs": [
    {
     "data": {
      "text/plain": [
       "18"
      ]
     },
     "execution_count": 42,
     "metadata": {},
     "output_type": "execute_result"
    }
   ],
   "source": [
    "fn(8,10)"
   ]
  },
  {
   "cell_type": "code",
   "execution_count": null,
   "id": "fd90c5db",
   "metadata": {},
   "outputs": [],
   "source": []
  }
 ],
 "metadata": {
  "kernelspec": {
   "display_name": "Python 3 (ipykernel)",
   "language": "python",
   "name": "python3"
  },
  "language_info": {
   "codemirror_mode": {
    "name": "ipython",
    "version": 3
   },
   "file_extension": ".py",
   "mimetype": "text/x-python",
   "name": "python",
   "nbconvert_exporter": "python",
   "pygments_lexer": "ipython3",
   "version": "3.9.13"
  }
 },
 "nbformat": 4,
 "nbformat_minor": 5
}
